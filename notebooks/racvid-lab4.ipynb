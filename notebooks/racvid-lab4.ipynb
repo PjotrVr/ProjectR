{
  "cells": [
    {
      "cell_type": "markdown",
      "metadata": {
        "id": "uhIzBADQDNCB"
      },
      "source": [
        "### Predgovor\n",
        "Ova vježba sastoji se od teoretskog i praktičnog dijela. Bez adekvatnog teorijskog razumijevanja, izvedba vježbe biti će značajno izazovnija.\n",
        "\n",
        "Predlažemo da napravite kopiju ove bilježnice na svoj Colab profil i tamo riješite vježbu. Ne zaboravite uključiti GPU akceleraciju (Runtime->Change runtime type->GPU->Save). \\\n",
        "\n",
        "U slučaju nejasnoća javite se na anja.delic@fer.hr."
      ]
    },
    {
      "cell_type": "markdown",
      "metadata": {
        "id": "vKtPXFrnpYzC"
      },
      "source": [
        "# 4. Laboratorijska vježba - generativno modeliranje"
      ]
    },
    {
      "cell_type": "markdown",
      "metadata": {
        "id": "uzIreOYS7B8T"
      },
      "source": [
        "Jedan od glavnih katalizatora u razvoju modernog računalnog vida jest dostupnost velikih skupova podataka. Iako su skupovi podataka lako dostupni, proces koji generira podatke je često nepoznat. Cilj ove laboratorijske vježbe jest pokušati aproksimirati proces koji generira dani skup podataka.\n"
      ]
    },
    {
      "cell_type": "markdown",
      "metadata": {
        "id": "kcPMUvv3E1pL"
      },
      "source": [
        "## Teorijska podloga generativnom modeliranju"
      ]
    },
    {
      "cell_type": "markdown",
      "metadata": {
        "id": "f9YQxQbbEz7w"
      },
      "source": [
        "Krenuti ćemo od bolje definicije zadatka.\n",
        "Pretpostavimo postojanje skupa podataka $D=\\{\\mathbf{x}_i\\}_{i=1}^N$ koji je nastao uzorkovanjem nepoznate distribucije $P_D(\\underline{\\mathbf{x}})$. Nadalje, pretpostavimo da je svaki primjer $\\mathbf{x}_i$ dobiven nezavisnim uzorkovanjem. Naš cilj je aproksimirati nepoznatu distribuciju podataka $P_D(\\underline{\\mathbf{x}})$ poznatim modelom $P_\\theta(\\underline{\\mathbf{x}})$.\n",
        "S obzirom da su naši podaci često u kontinuirani ($\\underline{\\mathbf{x}}$ je kontinuirana slučajna varijabla) baviti ćemo se modeliranjem gustoća vjerojatnosti $p_D(\\underline{\\mathbf{x}})$ i $p_\\theta(\\underline{\\mathbf{x}})$."
      ]
    },
    {
      "cell_type": "markdown",
      "metadata": {
        "id": "HHwh1wyJASSH"
      },
      "source": [
        "**Problem 1.:** Kako poravnati nepoznati $p_D(\\underline{\\mathbf{x}})$ i poznati $p_\\theta(\\underline{\\mathbf{x}})$?\n",
        "\n"
      ]
    },
    {
      "cell_type": "markdown",
      "metadata": {
        "id": "G9Sv47JgCUS-"
      },
      "source": [
        "U teoriji vjerojatnosti, različitost između dvije distribucije $P(\\underline{x})$ i $Q(\\underline{x})$ se mjeri pomoću f-divergencije. Jedna od najčešćih mjera iz obitelji f-divergencija je KL-divergencija. KL-divergenciju za kontinuirane slučajne varijable definiramo kao:\n",
        "$$\n",
        "\\mathrm{KL}(P, Q) = \\int_{-\\infty}^{+\\infty} p(x) \\ln\\frac{p(x)}{q(x)} dx.\n",
        "$$\n",
        "$p$ i $q$ su pripadajuće gustoće vjerojatnosti."
      ]
    },
    {
      "cell_type": "markdown",
      "metadata": {
        "id": "ryOKIYqGGd1d"
      },
      "source": [
        "KL-divergencije između distribucije podataka i distribucije modela je primamljiv gubitak za naš optimizacijski postupak. Može se pokazati da je minimizacija KL divergencije između distribucije podataka i distribucije modela ekvivalentna minimizaciji negativne log-izglednosti skupa podataka za učenje:\n",
        "$$\n",
        "\\underset{\\theta}{\\mathrm{min}} \\, \\mathrm{KL}(p_D, p_\\theta) \\simeq \\underset{\\theta}{\\mathrm{min}} \\, -\\mathbb{E}_{\\mathbf{x} \\in D} \\;\\;  [\\ln p_\\theta(\\mathbf{x})]\n",
        "$$"
      ]
    },
    {
      "cell_type": "markdown",
      "metadata": {
        "id": "Y5YX-JnVJ1q9"
      },
      "source": [
        "**Zadatak 1.**: Dokažite navedenu tvrdnju."
      ]
    },
    {
      "cell_type": "markdown",
      "metadata": {
        "id": "wAe65zwZKScr"
      },
      "source": [
        "Dokaz:\n",
        "$$\n",
        "\\underset{\\theta}{\\mathrm{min}} \\, \\mathrm{KL}(p_D, p_\\theta) = \\mathrm{Nadopuni}\n",
        "$$\n"
      ]
    },
    {
      "cell_type": "markdown",
      "metadata": {
        "id": "mcltA0gCk94E"
      },
      "source": [
        "**Problem 2.**: Definicija modela $p_\\theta$."
      ]
    },
    {
      "cell_type": "markdown",
      "metadata": {
        "id": "-QTBdTnEMnk2"
      },
      "source": [
        "Naš sljedeći korak je definirati model $p_\\theta$. Upravo po definiciji  $p_\\theta$ razlikujemo različite generativne modele.\n",
        "Na primjer autoregresivna faktorizacija modela dovodi do autoregresijskih modela, dok modeliranje nenormalizirane distribucije dovodi do energijskih modela. U ovoj vježbi se fokusiramo  na vrstu generativnih modela koje nazivamo normalizirajući tokovi. Normalizirajući tok $p_\\theta$ definiramo pomoću formule za zamjenu varijabli distribucije.\n",
        "\n",
        "Pretpostavimo da su $\\underline{\\mathbf{x}}$ i $\\underline{\\mathbf{z}}$ dvije kontinuirane slučajne varijable. Pretpostavimo da bijekcija $f$ mapira realizacije slučajne varijable $\\underline{\\mathbf{x}}$ u realizacije od $\\underline{\\mathbf{z}}$, to jest $\\mathbf{z} = f(\\mathbf{x})$. S obzirom da je $f$ bijekcija vrijedi i obrat $\\mathbf{x} = f^{-1}(\\mathbf{z})$. Formulu za zamjenu varijabi distribucije definiramo kao:\n",
        "$$\n",
        " p(\\mathbf{x}) = q(\\mathbf{z}) \\left| \\mathrm{det} \\frac{\\partial \\mathbf{z}}{ \\partial \\mathbf{x}} \\right|, \\quad \\mathbf{z} = f(\\mathbf{x})\n",
        "$$\n",
        "$\\frac{∂ \\mathbf{z}}{ ∂ \\mathbf{x}}$ predstavlja Jakobijan funkcije $f$ za $\\textbf{x}$. det predstavlja determinantu. $|\\cdot|$ predstavlja apsolutnu vrijednost.\n",
        "To jest, drugi član umnoška odgovara apsolutnoj vrijednosti determinante Jakobijana transformacije $f$."
      ]
    },
    {
      "cell_type": "markdown",
      "metadata": {
        "id": "Q1WEnc3ZarRI"
      },
      "source": [
        "Formulu za zamjenu varijabli ćemo iskoristiti za izgradnju okvira koji nam omogućava implementaciju dubokog generativnog modela.\n",
        "Ideja je jednostavna, distribuciju $q(\\mathbf{z})$ možemo predefinirati (npr. kao Gaussovu distribuciju). Tada nam je jedina nepoznanica bijekcija $f$ koju možemo parametrizirati s $\\theta$ te naučiti optimizacijskim postupkom.\n"
      ]
    },
    {
      "cell_type": "markdown",
      "metadata": {
        "id": "OjcJuvHaQOBV"
      },
      "source": [
        "Prisjetimo se sljedećih teorema:\n",
        "1. kompozicija bijekcija je bijekcija, tj $f$ možemo raspisati kao $f = f_1 ∘ f_2 ∘ f_3 ∘ \\dots \\circ f_K$.\n",
        "2. pravilo ulančavanja: $\\frac{∂ z_3}{ ∂ z_1} = \\frac{∂ z_3}{ ∂ z_2}\\frac{∂ z_2}{ ∂ z_1} $\n",
        "3. determinanta umnoška dviju kvadratnih matrica istog reda jednaka je umnošku determinanti svake matrice (Binet-Cauchyjev teorem)\n",
        "4. Apsolutna vrijednost umnoška dva realna broja je jednaka umnošku apsolutnih vrijednosti: $|a\\cdot b| = |a|\\cdot |b|$\n",
        "\n",
        "Bijekciju $f$ možemo promatrati kao kompoziciju funkcija, gdje svaka funkcija $f_i$ prima varijablu $z_{i-1}$ i računa varijablu $z_i$.\n",
        "Ako uzmemo u obzir prethodno spomenute teoreme, dolazimo do sljedeće formulacije:\n",
        "$$\n",
        " p_\\theta (\\mathbf{x}) = q(\\mathbf{z}_K) \\prod_{k=1}^K \\left| \\mathrm{det} \\frac{\\partial \\mathbf{z}_{k} }{ \\partial \\mathbf{z}_{k-1}} \\right|, \\quad \\mathbf{z}_{k} = f_{\\theta_k}(\\mathbf{z}_{k-1}),\n",
        "$$\n",
        "gdje je $\\mathbf{z}_{0} = \\mathbf{x}$.\n",
        "$q(\\mathbf{z}_K)$ može biti proizvoljna distribucija pa je definiramo kao $q(\\mathbf{z}_K):= \\mathcal{N}(\\mathbf{z}_K; 0, \\mathrm{I})$."
      ]
    },
    {
      "cell_type": "markdown",
      "metadata": {
        "id": "BVx7UqIZh19J"
      },
      "source": [
        "**Zadatak 2.** Krenuvši od općenite formule za zamjenu varijabli izvedite izraz za normalizirajući tok."
      ]
    },
    {
      "cell_type": "markdown",
      "metadata": {
        "id": "QcG4_w3XiVxC"
      },
      "source": [
        "Izvod:\n",
        "$$\n",
        "p(\\mathbf{x}) = q(\\mathbf{z}_K) \\left| \\mathrm{det} \\frac{\\partial f(\\mathbf{x})}{ \\partial \\mathbf{x}} \\right| \\\\ \\dots\n",
        "$$"
      ]
    },
    {
      "cell_type": "markdown",
      "metadata": {
        "id": "GzQTQ_1pBBcF"
      },
      "source": [
        "Spomenimo još da nas općenito zanima logaritam gustoće vjerojatnosti pa pišemo:\n",
        "$$\n",
        " \\ln p_\\theta (\\mathbf{x}) = \\ln q(\\mathbf{z}_K) +\\sum_{k=1}^K \\ln \\left| \\mathrm{det} \\frac{\\partial \\mathbf{z}_{k} }{ \\partial \\mathbf{z}_{k-1}} \\right|, \\quad \\mathbf{z}_{k} = f_{\\theta_k}(\\mathbf{z}_{k-1}), \\tag{1}\n",
        "$$"
      ]
    },
    {
      "cell_type": "markdown",
      "metadata": {
        "id": "N9gRzeKonoKN"
      },
      "source": [
        "Ostala nam je još jedna nepoznanica, a to je dizajn funkcija $f_k$,  $k=1,...,K$.\n",
        "Dizajn funkcije f ovisi o podacima koje modeliramo. Razmislite kako biste bijekciju modelirali kao gradivni blok dubokog modela."
      ]
    },
    {
      "cell_type": "markdown",
      "metadata": {
        "id": "2LJNZ2ez-138"
      },
      "source": [
        "## Modeliranje 2D skupa podataka normalizirajućim tokom"
      ]
    },
    {
      "cell_type": "markdown",
      "metadata": {
        "id": "8pnaIDgmlMKu"
      },
      "source": [
        "**Problem 3.** Modeliranje 2D skupa podatka."
      ]
    },
    {
      "cell_type": "code",
      "execution_count": null,
      "metadata": {
        "id": "E8oosfEPpUaR"
      },
      "outputs": [],
      "source": [
        "import os\n",
        "import torch\n",
        "import random\n",
        "import numpy as np\n",
        "import torch.nn as nn\n",
        "\n",
        "np.random.seed(0)\n",
        "random.seed(0)\n",
        "torch.manual_seed(0)\n",
        "\n",
        "import matplotlib.pyplot as plt"
      ]
    },
    {
      "cell_type": "code",
      "execution_count": null,
      "metadata": {
        "id": "FPjc6n7sqLIn"
      },
      "outputs": [],
      "source": [
        "class GaussianMixture2DDataset:\n",
        "    def __init__(self, num_samples, n_comp=2, loc=torch.zeros(2,2), scale=torch.ones(2,2), pi=(torch.ones(2)/2)):\n",
        "        samples_per_component = (pi * num_samples).long()\n",
        "        self.samples = torch.cat([torch.randn(samples_per_component[i],2) * scale[i] + loc[i] for i in range(n_comp)], 0)\n",
        "\n",
        "    def __getitem__(self, idx):\n",
        "        return self.samples[idx]"
      ]
    },
    {
      "cell_type": "markdown",
      "metadata": {
        "id": "qrDsz9ajlmYb"
      },
      "source": [
        "Promotrimo sljedeći skup podataka. Pretpostavimo da nam je dostupan samo skup podataka $D$. Cilj nam je aproksimirati distribuciju podataka $p_D$ pomoću normalizirajućeg toka."
      ]
    },
    {
      "cell_type": "code",
      "execution_count": null,
      "metadata": {
        "colab": {
          "base_uri": "https://localhost:8080/",
          "height": 454
        },
        "id": "SdbqYcV0sOZK",
        "outputId": "12143677-eb11-444d-a234-aa2398632ac1"
      },
      "outputs": [
        {
          "output_type": "display_data",
          "data": {
            "text/plain": [
              "<Figure size 640x480 with 1 Axes>"
            ],
            "image/png": "[encoded data removed]"
          },
          "metadata": {}
        }
      ],
      "source": [
        "D = GaussianMixture2DDataset(9999, loc=torch.tensor([[-1, -1], [1,1]]), scale=torch.tensor([[0.5, 0.5], [0.5,0.5]])).samples\n",
        "plt.scatter(D[:, 0], D[:, 1], 1)\n",
        "plt.show()"
      ]
    },
    {
      "cell_type": "markdown",
      "metadata": {
        "id": "e6UCmiYqoTxf"
      },
      "source": [
        "S obzirom da modeliramo 2D skup podatka, zanimaju nas funkcije s domenom $\\mathbb{R}^2$ i kodomenom $\\mathbb{R}^2$ koje imaju inverz.\n",
        "Definiramo sljedeći implementacijski ovir:"
      ]
    },
    {
      "cell_type": "code",
      "execution_count": null,
      "metadata": {
        "id": "oB_3FyfGsfmF"
      },
      "outputs": [],
      "source": [
        "class _Bijection(nn.Module):\n",
        "    def __init__(self):\n",
        "        super(_Bijection, self).__init__()\n",
        "\n",
        "    def forward(self, x):\n",
        "        pass\n",
        "\n",
        "    def inverse(self, z):\n",
        "        pass"
      ]
    },
    {
      "cell_type": "markdown",
      "metadata": {
        "id": "NLaq4kuYrv21"
      },
      "source": [
        "Funkcija `forward` implementira unaprijedni prolaz kroz sloj i na izlazu vraća transformirani ulaz i logaritam apsolutne vrijednosti determinante Jakobijana funkcije. \\\n",
        "Funkcija `inverse` implementira inverzni probalz kroz sloj i na izlazu vraća transformirani ulaz."
      ]
    },
    {
      "cell_type": "markdown",
      "metadata": {
        "id": "VIFMGWxqri3u"
      },
      "source": [
        "**Zadatak 3.**: Pokušajmo ponuditi bijektivnu alternativu sloju torch.nn.Linear za dvodimenzionalne podatke. Obratite pozornost na to da je transformaciju potrebno održavati invertibilnom regularizacijskim članom.\n",
        "Nadopunite forward i inverse funkciju.\n",
        "\n",
        "Uputa: Linearna transformacija se primjenjuje na svaki primjer u minigrupi nezavisno. Zbog malene dimenzionalnosti, invertiranje i računanje determinante Jakobijana možemo izvesti grubom silom, izravnim pozivom odgovarajućih funkcija torcha."
      ]
    },
    {
      "cell_type": "code",
      "execution_count": null,
      "metadata": {
        "id": "lS9FtpcPqVpJ"
      },
      "outputs": [],
      "source": [
        "def sum_except_batch(x, num_dims=1):\n",
        "    return x.reshape(*x.shape[:num_dims], -1).sum(-1)\n",
        "\n",
        "class BijectiveLinear(_Bijection):\n",
        "    def __init__(self, dim):\n",
        "        super(BijectiveLinear, self).__init__()\n",
        "        self.dim = dim\n",
        "        self.weight = nn.Parameter(torch.eye(dim))\n",
        "        self.bias = nn.Parameter(torch.zeros(1, dim))\n",
        "\n",
        "    def forward(self, x):  # x has shape NxD\n",
        "        z = x @ self.weight + self.bias\n",
        "        # det(A) == det(A.T) so there is no reason to add .T\n",
        "        log_abs_det_weight = (self.weight.det().abs() + 1e-9).log()\n",
        "\n",
        "        log_abs_det = log_abs_det_weight.expand(x.size(0))\n",
        "        return z, log_abs_det  # shapes NxD, N\n",
        "\n",
        "    def inverse(self, z):\n",
        "        x = (z - self.bias) @ self.weight.inverse()\n",
        "        return x  # NxD\n",
        "\n",
        "    def regularization(self):\n",
        "        return ((self.weight.T @ self.weight) - torch.eye(self.dim)).abs().sum()\n"
      ]
    },
    {
      "cell_type": "markdown",
      "metadata": {
        "id": "8aKtTZhIr7tN"
      },
      "source": [
        "**Zadatak 4.**: Nadopunjavanje izvedbe osnovnog razreda `NormalizingFlow`.\n",
        "\n",
        "Proučite predloženu nepotpunu izvedbu razreda `NormalizingFlow`. Obratite pozornost na to da konstruktor razreda prima argument `transforms` koji mora biti tipa [torch.nn.Sequential](https://pytorch.org/docs/stable/generated/torch.nn.Sequential.html) kako bismo kroz taj objekt mogli iterirati pri unaprijednom i inverznom prolazu. Iteraciju ćemo provoditi `for` petljom i tako prolaziti kroz slojeve normalizirajućeg toka. Predložite potpunu izvedbu razreda `NormalizingFlow` pod pretpostavkom da svi elementi slijednog modela `transforms` nasljeđuju prethodno definirano sučelje `_Bijection`. Vaše rješenje može dodavati nove lokalne metode razredu `NormalizingFlow`.\n",
        "\n"
      ]
    },
    {
      "cell_type": "code",
      "execution_count": null,
      "metadata": {
        "id": "SNBd58SdJBkn"
      },
      "outputs": [],
      "source": [
        "class NormalizingFlow(nn.Module):\n",
        "    \"\"\"\n",
        "    Base class for normalizing flow.\n",
        "    \"\"\"\n",
        "\n",
        "    def __init__(self, transforms, input_dim):\n",
        "        super().__init__()\n",
        "        self.transforms = transforms  # has to be of type nn.Sequential.\n",
        "\n",
        "        self.register_buffer(\"loc\", torch.zeros(input_dim))\n",
        "        self.register_buffer(\"log_scale\", torch.zeros(input_dim))\n",
        "        self.base_dist = torch.distributions.Normal(self.loc, torch.exp(self.log_scale))\n",
        "\n",
        "    def _get_base_dist_on_device(self, device):\n",
        "        if self.base_dist.loc.device != device:\n",
        "            self.base_dist = torch.distributions.Normal(\n",
        "                self.loc.to(device), torch.exp(self.log_scale.to(device))\n",
        "            )\n",
        "        return self.base_dist\n",
        "\n",
        "    def forward(self, x):\n",
        "        \"\"\"Transforms the input sample to the latent representation z.\n",
        "\n",
        "        Args:\n",
        "            x (torch.Tensor): input sample\n",
        "\n",
        "        Returns:\n",
        "            torch.Tensor: latent representation of the input sample\n",
        "        \"\"\"\n",
        "        z = x\n",
        "        for t in self.transforms:\n",
        "            z, _ = t.forward(z)\n",
        "        return z\n",
        "\n",
        "    def inverse(self, z):\n",
        "        \"\"\"Transforms the latent representation z back to the input space.\n",
        "\n",
        "        Args:\n",
        "            z (torch.Tensor): latent representation\n",
        "\n",
        "        Returns:\n",
        "            torch.Tensor: representation in the input space\n",
        "        \"\"\"\n",
        "        x = z\n",
        "        for t in reversed(self.transforms):\n",
        "            x = t.inverse(x)\n",
        "        return x\n",
        "\n",
        "    def log_prob(self, x):\n",
        "        \"\"\"Calculates the log-likelihood of the given sample x (see equation (1)).\n",
        "\n",
        "        Args:\n",
        "            x (torch.Tensor): input\n",
        "\n",
        "        Returns:\n",
        "            torch.Tensor: log-likelihood of x\n",
        "        \"\"\"\n",
        "        if len(x.shape) < 2:\n",
        "            x = x.unsqueeze(0)  # add batch dim\n",
        "\n",
        "        self._get_base_dist_on_device(x.device)\n",
        "        N = x.shape[0]\n",
        "        z = x\n",
        "        log_abs_det = torch.zeros(N).to(x.device)\n",
        "        for t in self.transforms:\n",
        "            z, log_abs_deti = t.forward(z)\n",
        "            log_abs_det += log_abs_deti\n",
        "\n",
        "        log_pz = sum_except_batch(self.base_dist.log_prob(z))\n",
        "        log_px = log_pz + log_abs_det\n",
        "        return log_px\n",
        "\n",
        "    def sample(self, num_samples, T=1):\n",
        "        \"\"\"Generates new samples from the normalizing flow.\n",
        "\n",
        "        Args:\n",
        "            num_samples (int): number of samples to generate\n",
        "            T (float, optional): sampleing temperature. Defaults to 1.\n",
        "\n",
        "        Returns:\n",
        "            torch.Tensor: generated samples\n",
        "        \"\"\"\n",
        "        z = self.base_dist.sample(torch.Size([num_samples])) * T\n",
        "        x = z\n",
        "        for t in reversed(self.transforms):\n",
        "            x = t.inverse(x)\n",
        "        return x\n"
      ]
    },
    {
      "cell_type": "markdown",
      "metadata": {
        "id": "K4jw_hqiZDVI"
      },
      "source": [
        "U jednostavnom slučaju, transformaciju normalizirajućeg toka možemo definirati kao slijed linearnih transformacija:"
      ]
    },
    {
      "cell_type": "code",
      "execution_count": null,
      "metadata": {
        "id": "GPTAAO6kr6ei"
      },
      "outputs": [],
      "source": [
        "class SimpleNF(NormalizingFlow):\n",
        "    def __init__(self, input_dim, num_steps=2):\n",
        "        transforms = nn.Sequential()\n",
        "        for _ in range(num_steps):\n",
        "            transforms.append(BijectiveLinear(input_dim))\n",
        "\n",
        "        super(SimpleNF, self).__init__(transforms=transforms, input_dim=input_dim)\n",
        "\n",
        "    def gather_regularization(self):\n",
        "        return sum([m.regularization() for m in self.transforms])"
      ]
    },
    {
      "cell_type": "markdown",
      "metadata": {
        "id": "2S76bp33sZxD"
      },
      "source": [
        "Provjerite svoju implementaciju inverza sljedećim kodom:"
      ]
    },
    {
      "cell_type": "code",
      "execution_count": null,
      "metadata": {
        "colab": {
          "base_uri": "https://localhost:8080/"
        },
        "id": "9_YbUH-erqEx",
        "outputId": "bbc85a39-1751-439b-b5e0-204522a9f269"
      },
      "outputs": [
        {
          "output_type": "stream",
          "name": "stdout",
          "text": [
            "0.0\n"
          ]
        }
      ],
      "source": [
        "flow = SimpleNF(2, num_steps=7)\n",
        "print((flow.inverse(flow(D)) - D).abs().sum().item())\n",
        "assert (flow.inverse(flow(D)) - D).abs().sum() < 1e-9"
      ]
    },
    {
      "cell_type": "markdown",
      "metadata": {
        "id": "yw1rECQCsgrd"
      },
      "source": [
        "Tok učimo optmizacijom prethodno objašnjenog gubitka."
      ]
    },
    {
      "cell_type": "code",
      "execution_count": null,
      "metadata": {
        "colab": {
          "base_uri": "https://localhost:8080/"
        },
        "id": "m6VldF_vw8tu",
        "outputId": "26fe810f-2db6-4b36-a11d-2935dff9e4e6"
      },
      "outputs": [
        {
          "output_type": "stream",
          "name": "stdout",
          "text": [
            "Iter 1: Loss:3.0862061977386475 Reg:0.0\n",
            "Iter 21: Loss:2.5466935634613037 Reg:3.0696239471435547\n",
            "Iter 41: Loss:2.576000690460205 Reg:3.1122183799743652\n",
            "Iter 61: Loss:2.548900842666626 Reg:3.1993513107299805\n",
            "Iter 81: Loss:2.5468132495880127 Reg:3.2017550468444824\n",
            "Iter 101: Loss:2.5466501712799072 Reg:3.1980996131896973\n",
            "Iter 121: Loss:2.5466346740722656 Reg:3.194186210632324\n",
            "Iter 141: Loss:2.546633243560791 Reg:3.1903836727142334\n",
            "Iter 161: Loss:2.546633243560791 Reg:3.1867010593414307\n",
            "Iter 181: Loss:2.546632766723633 Reg:3.1831319332122803\n",
            "Iter 201: Loss:2.546633005142212 Reg:3.1796698570251465\n",
            "Iter 221: Loss:2.546632766723633 Reg:3.176311492919922\n",
            "Iter 241: Loss:2.546632766723633 Reg:3.1730525493621826\n",
            "Iter 261: Loss:2.546632766723633 Reg:3.169891357421875\n",
            "Iter 281: Loss:2.546632766723633 Reg:3.166823148727417\n",
            "Iter 301: Loss:2.5466322898864746 Reg:3.163846969604492\n",
            "Iter 321: Loss:2.546633005142212 Reg:3.160959482192993\n",
            "Iter 341: Loss:2.546633005142212 Reg:3.1581573486328125\n",
            "Iter 361: Loss:2.546633005142212 Reg:3.1554386615753174\n",
            "Iter 381: Loss:2.546633243560791 Reg:3.1528003215789795\n",
            "Iter 401: Loss:2.5466325283050537 Reg:3.1502411365509033\n",
            "Iter 421: Loss:2.546633243560791 Reg:3.1477580070495605\n",
            "Iter 441: Loss:2.546633243560791 Reg:3.145347833633423\n",
            "Iter 461: Loss:2.546633005142212 Reg:3.143009901046753\n",
            "Iter 481: Loss:2.546632766723633 Reg:3.1407408714294434\n",
            "Iter 501: Loss:2.546632766723633 Reg:3.1385393142700195\n",
            "Iter 521: Loss:2.546632766723633 Reg:3.1364023685455322\n",
            "Iter 541: Loss:2.546632766723633 Reg:3.134328842163086\n",
            "Iter 561: Loss:2.546632766723633 Reg:3.1323184967041016\n",
            "Iter 581: Loss:2.5466325283050537 Reg:3.1303696632385254\n",
            "Iter 601: Loss:2.546633243560791 Reg:3.128485918045044\n",
            "Iter 621: Loss:2.5466344356536865 Reg:3.1266748905181885\n",
            "Iter 641: Loss:2.5466420650482178 Reg:3.124964475631714\n",
            "Iter 661: Loss:2.5467023849487305 Reg:3.1234004497528076\n",
            "Iter 681: Loss:2.547212600708008 Reg:3.1217715740203857\n",
            "Iter 701: Loss:2.5509676933288574 Reg:3.1171059608459473\n",
            "Iter 721: Loss:2.557168483734131 Reg:3.115633487701416\n",
            "Iter 741: Loss:2.5513012409210205 Reg:3.1391263008117676\n",
            "Iter 761: Loss:2.547821521759033 Reg:3.148271322250366\n",
            "Iter 781: Loss:2.546931266784668 Reg:3.1483049392700195\n",
            "Iter 801: Loss:2.5467162132263184 Reg:3.146282434463501\n",
            "Iter 821: Loss:2.5466597080230713 Reg:3.143922805786133\n",
            "Iter 841: Loss:2.546642780303955 Reg:3.1415722370147705\n",
            "Iter 861: Loss:2.5466370582580566 Reg:3.1392903327941895\n",
            "Iter 881: Loss:2.5466349124908447 Reg:3.1370818614959717\n",
            "Iter 901: Loss:2.5466344356536865 Reg:3.1349451541900635\n",
            "Iter 921: Loss:2.546633720397949 Reg:3.132873296737671\n",
            "Iter 941: Loss:2.546633243560791 Reg:3.1308658123016357\n",
            "Iter 961: Loss:2.546633243560791 Reg:3.1289169788360596\n",
            "Iter 981: Loss:2.546633243560791 Reg:3.1270265579223633\n",
            "Iter 1001: Loss:2.54663348197937 Reg:3.1251907348632812\n",
            "Iter 1021: Loss:2.54663348197937 Reg:3.123411178588867\n",
            "Iter 1041: Loss:2.5466339588165283 Reg:3.1216847896575928\n",
            "Iter 1061: Loss:2.5466341972351074 Reg:3.1200156211853027\n",
            "Iter 1081: Loss:2.546635627746582 Reg:3.11840558052063\n",
            "Iter 1101: Loss:2.5466387271881104 Reg:3.116863965988159\n",
            "Iter 1121: Loss:2.5466461181640625 Reg:3.115408420562744\n",
            "Iter 1141: Loss:2.5466678142547607 Reg:3.1140682697296143\n",
            "Iter 1161: Loss:2.546736478805542 Reg:3.1128978729248047\n",
            "Iter 1181: Loss:2.5469653606414795 Reg:3.111943006515503\n",
            "Iter 1201: Loss:2.547724485397339 Reg:3.1110992431640625\n",
            "Iter 1221: Loss:2.549624443054199 Reg:3.1101784706115723\n",
            "Iter 1241: Loss:2.551253318786621 Reg:3.111905574798584\n",
            "Iter 1261: Loss:2.55000901222229 Reg:3.118544340133667\n",
            "Iter 1281: Loss:2.548222780227661 Reg:3.123176097869873\n",
            "Iter 1301: Loss:2.5472939014434814 Reg:3.1239845752716064\n",
            "Iter 1321: Loss:2.546914577484131 Reg:3.1229593753814697\n",
            "Iter 1341: Loss:2.546762466430664 Reg:3.1213388442993164\n",
            "Iter 1361: Loss:2.546699285507202 Reg:3.119579553604126\n",
            "Iter 1381: Loss:2.546671152114868 Reg:3.1178250312805176\n",
            "Iter 1401: Loss:2.5466573238372803 Reg:3.1161153316497803\n",
            "Iter 1421: Loss:2.5466506481170654 Reg:3.114459753036499\n",
            "Iter 1441: Loss:2.546647548675537 Reg:3.112858772277832\n",
            "Iter 1461: Loss:2.5466461181640625 Reg:3.111311435699463\n",
            "Iter 1481: Loss:2.5466463565826416 Reg:3.109816551208496\n",
            "Iter 1501: Loss:2.5466485023498535 Reg:3.108380079269409\n",
            "Iter 1521: Loss:2.5466530323028564 Reg:3.107006788253784\n",
            "Iter 1541: Loss:2.546661376953125 Reg:3.1057119369506836\n",
            "Iter 1561: Loss:2.546689510345459 Reg:3.104766845703125\n",
            "Iter 1581: Loss:2.546755075454712 Reg:3.104462146759033\n",
            "Iter 1601: Loss:2.5468926429748535 Reg:3.1046459674835205\n",
            "Iter 1621: Loss:2.547187328338623 Reg:3.104605197906494\n",
            "Iter 1641: Loss:2.54777193069458 Reg:3.106428623199463\n",
            "Iter 1661: Loss:2.5484187602996826 Reg:3.106605052947998\n",
            "Iter 1681: Loss:2.5486111640930176 Reg:3.1081271171569824\n",
            "Iter 1701: Loss:2.548261880874634 Reg:3.1094861030578613\n",
            "Iter 1721: Loss:2.5477566719055176 Reg:3.1101105213165283\n",
            "Iter 1741: Loss:2.5473484992980957 Reg:3.1097917556762695\n",
            "Iter 1761: Loss:2.547084331512451 Reg:3.1088037490844727\n",
            "Iter 1781: Loss:2.546928644180298 Reg:3.1074671745300293\n",
            "Iter 1801: Loss:2.546839714050293 Reg:3.105985641479492\n",
            "Iter 1821: Loss:2.5467965602874756 Reg:3.104792356491089\n",
            "Iter 1841: Loss:2.5467889308929443 Reg:3.103682518005371\n",
            "Iter 1861: Loss:2.5467987060546875 Reg:3.1031713485717773\n",
            "Iter 1881: Loss:2.5468263626098633 Reg:3.1035425662994385\n",
            "Iter 1901: Loss:2.546844482421875 Reg:3.102003335952759\n",
            "Iter 1921: Loss:2.546891450881958 Reg:3.101728916168213\n",
            "Iter 1941: Loss:2.5469512939453125 Reg:3.101391553878784\n",
            "Iter 1961: Loss:2.5470082759857178 Reg:3.101224422454834\n",
            "Iter 1981: Loss:2.5470876693725586 Reg:3.102013349533081\n",
            "Iter 2001: Loss:2.5471410751342773 Reg:3.100884437561035\n",
            "Iter 2021: Loss:2.54720401763916 Reg:3.1007802486419678\n",
            "Iter 2041: Loss:2.5472371578216553 Reg:3.10052227973938\n",
            "Iter 2061: Loss:2.547252655029297 Reg:3.1002442836761475\n",
            "Iter 2081: Loss:2.5472500324249268 Reg:3.099905252456665\n",
            "Iter 2101: Loss:2.5472335815429688 Reg:3.0993261337280273\n",
            "Iter 2121: Loss:2.5471885204315186 Reg:3.0987188816070557\n",
            "Iter 2141: Loss:2.54715895652771 Reg:3.098090887069702\n",
            "Iter 2161: Loss:2.5471298694610596 Reg:3.097369909286499\n",
            "Iter 2181: Loss:2.5471036434173584 Reg:3.096576690673828\n",
            "Iter 2201: Loss:2.5470831394195557 Reg:3.0955729484558105\n",
            "Iter 2221: Loss:2.547065496444702 Reg:3.094825506210327\n",
            "Iter 2241: Loss:2.547067642211914 Reg:3.0950188636779785\n",
            "Iter 2261: Loss:2.5470621585845947 Reg:3.093146324157715\n",
            "Iter 2281: Loss:2.5470592975616455 Reg:3.0921943187713623\n",
            "Iter 2301: Loss:2.54707670211792 Reg:3.091275930404663\n",
            "Iter 2321: Loss:2.5470805168151855 Reg:3.0904271602630615\n",
            "Iter 2341: Loss:2.5471012592315674 Reg:3.0896308422088623\n",
            "Iter 2361: Loss:2.5471091270446777 Reg:3.088787317276001\n",
            "Iter 2381: Loss:2.547132968902588 Reg:3.0876412391662598\n",
            "Iter 2401: Loss:2.5471389293670654 Reg:3.0867042541503906\n",
            "Iter 2421: Loss:2.547144889831543 Reg:3.0855650901794434\n",
            "Iter 2441: Loss:2.547149181365967 Reg:3.084500789642334\n",
            "Iter 2461: Loss:2.5471673011779785 Reg:3.0832607746124268\n",
            "Iter 2481: Loss:2.5471670627593994 Reg:3.08209228515625\n",
            "Iter 2501: Loss:2.5471653938293457 Reg:3.0807015895843506\n",
            "Iter 2521: Loss:2.547163248062134 Reg:3.079230308532715\n",
            "Iter 2541: Loss:2.547161340713501 Reg:3.0779004096984863\n",
            "Iter 2561: Loss:2.547175884246826 Reg:3.076214551925659\n",
            "Iter 2581: Loss:2.547173023223877 Reg:3.074666738510132\n",
            "Iter 2601: Loss:2.5471713542938232 Reg:3.07287859916687\n",
            "Iter 2621: Loss:2.547189235687256 Reg:3.0711936950683594\n",
            "Iter 2641: Loss:2.5471906661987305 Reg:3.0694124698638916\n",
            "Iter 2661: Loss:2.5471930503845215 Reg:3.067424774169922\n",
            "Iter 2681: Loss:2.5472140312194824 Reg:3.065484046936035\n",
            "Iter 2701: Loss:2.5472300052642822 Reg:3.0636353492736816\n",
            "Iter 2721: Loss:2.5472605228424072 Reg:3.0618410110473633\n",
            "Iter 2741: Loss:2.547236204147339 Reg:3.0591726303100586\n",
            "Iter 2761: Loss:2.5472607612609863 Reg:3.0569915771484375\n",
            "Iter 2781: Loss:2.547250509262085 Reg:3.0544464588165283\n",
            "Iter 2801: Loss:2.547274351119995 Reg:3.052018165588379\n",
            "Iter 2821: Loss:2.5472793579101562 Reg:3.0500972270965576\n",
            "Iter 2841: Loss:2.5472524166107178 Reg:3.046175956726074\n",
            "Iter 2861: Loss:2.5472781658172607 Reg:3.0433952808380127\n",
            "Iter 2881: Loss:2.547271966934204 Reg:3.0402615070343018\n",
            "Iter 2901: Loss:2.547315835952759 Reg:3.0381875038146973\n",
            "Iter 2921: Loss:2.5473461151123047 Reg:3.03523588180542\n",
            "Iter 2941: Loss:2.5473363399505615 Reg:3.030513048171997\n",
            "Iter 2961: Loss:2.5473597049713135 Reg:3.027219295501709\n",
            "Iter 2981: Loss:2.5473673343658447 Reg:3.0241458415985107\n",
            "Iter 3001: Loss:2.547395944595337 Reg:3.020606279373169\n",
            "Iter 3021: Loss:2.547417402267456 Reg:3.0156805515289307\n",
            "Iter 3041: Loss:2.5474414825439453 Reg:3.011734962463379\n",
            "Iter 3061: Loss:2.5474486351013184 Reg:3.0072126388549805\n",
            "Iter 3081: Loss:2.547457695007324 Reg:3.002412796020508\n",
            "Iter 3101: Loss:2.5474693775177 Reg:2.997779369354248\n",
            "Iter 3121: Loss:2.5475053787231445 Reg:2.993077516555786\n",
            "Iter 3141: Loss:2.5475049018859863 Reg:2.9877469539642334\n",
            "Iter 3161: Loss:2.5475425720214844 Reg:2.9828567504882812\n",
            "Iter 3181: Loss:2.5475499629974365 Reg:2.9770874977111816\n",
            "Iter 3201: Loss:2.547589063644409 Reg:2.971829652786255\n",
            "Iter 3221: Loss:2.5476372241973877 Reg:2.9666500091552734\n",
            "Iter 3241: Loss:2.5476372241973877 Reg:2.9601426124572754\n",
            "Iter 3261: Loss:2.5477070808410645 Reg:2.9545507431030273\n",
            "Iter 3281: Loss:2.547689914703369 Reg:2.9475035667419434\n",
            "Iter 3301: Loss:2.547739267349243 Reg:2.9411263465881348\n",
            "Iter 3321: Loss:2.5477657318115234 Reg:2.934556007385254\n",
            "Iter 3341: Loss:2.5477583408355713 Reg:2.9269652366638184\n",
            "Iter 3361: Loss:2.547846794128418 Reg:2.920680522918701\n",
            "Iter 3381: Loss:2.5478627681732178 Reg:2.913801908493042\n",
            "Iter 3401: Loss:2.547902822494507 Reg:2.9056403636932373\n",
            "Iter 3421: Loss:2.547971725463867 Reg:2.898488998413086\n",
            "Iter 3441: Loss:2.548142910003662 Reg:2.894282341003418\n",
            "Iter 3461: Loss:2.548240900039673 Reg:2.88684344291687\n",
            "Iter 3481: Loss:2.5483503341674805 Reg:2.882446765899658\n",
            "Iter 3501: Loss:2.54830265045166 Reg:2.8726203441619873\n",
            "Iter 3521: Loss:2.5483157634735107 Reg:2.8648526668548584\n",
            "Iter 3541: Loss:2.5483906269073486 Reg:2.8589999675750732\n",
            "Iter 3561: Loss:2.5485968589782715 Reg:2.854957103729248\n",
            "Iter 3581: Loss:2.5487442016601562 Reg:2.8502988815307617\n",
            "Iter 3601: Loss:2.548727035522461 Reg:2.844087600708008\n",
            "Iter 3621: Loss:2.5486221313476562 Reg:2.8359200954437256\n",
            "Iter 3641: Loss:2.548527479171753 Reg:2.8272316455841064\n",
            "Iter 3661: Loss:2.548522710800171 Reg:2.8187718391418457\n",
            "Iter 3681: Loss:2.548614978790283 Reg:2.812620162963867\n",
            "Iter 3701: Loss:2.548759937286377 Reg:2.808120012283325\n",
            "Iter 3721: Loss:2.548802614212036 Reg:2.799947500228882\n",
            "Iter 3741: Loss:2.5488522052764893 Reg:2.7950377464294434\n",
            "Iter 3761: Loss:2.5490386486053467 Reg:2.7922203540802\n",
            "Iter 3781: Loss:2.5492613315582275 Reg:2.790290117263794\n",
            "Iter 3801: Loss:2.5490896701812744 Reg:2.783301591873169\n",
            "Iter 3821: Loss:2.5487606525421143 Reg:2.773097515106201\n",
            "Iter 3841: Loss:2.5485589504241943 Reg:2.7617313861846924\n",
            "Iter 3861: Loss:2.5486464500427246 Reg:2.754772901535034\n",
            "Iter 3881: Loss:2.5490059852600098 Reg:2.752876043319702\n",
            "Iter 3901: Loss:2.549412250518799 Reg:2.7551348209381104\n",
            "Iter 3921: Loss:2.549290657043457 Reg:2.7488224506378174\n",
            "Iter 3941: Loss:2.548844814300537 Reg:2.7383368015289307\n",
            "Iter 3961: Loss:2.5485427379608154 Reg:2.7250711917877197\n",
            "Iter 3981: Loss:2.5487356185913086 Reg:2.719834804534912\n"
          ]
        }
      ],
      "source": [
        "flow = SimpleNF(2, num_steps=7)\n",
        "optim = torch.optim.SGD(flow.parameters(), lr=1e-1)\n",
        "\n",
        "for iter in range(4000):\n",
        "    optim.zero_grad()\n",
        "    log_px = flow.log_prob(D)\n",
        "    loss = - (log_px).mean()\n",
        "    loss_reg = flow.gather_regularization()\n",
        "    total_loss = loss + 0.001 * loss_reg\n",
        "    total_loss.backward()\n",
        "    optim.step()\n",
        "    if iter % 20 == 0:\n",
        "        print(f\"Iter {iter+1}: Loss:{loss.item()} Reg:{loss_reg.item()}\")"
      ]
    },
    {
      "cell_type": "markdown",
      "metadata": {
        "id": "OPKOed7X9lP4"
      },
      "source": [
        "Ako ste do sada sve napravili kako treba, predloženi postav trebao bi uspjeti naučiti tok s gubitkom od oko 2.5.\n",
        "\n",
        "Provjerimo još jednom stabilnost inverza. Kako biste komentrali rezultate?"
      ]
    },
    {
      "cell_type": "code",
      "execution_count": null,
      "metadata": {
        "colab": {
          "base_uri": "https://localhost:8080/"
        },
        "id": "LRBAbLT8O0UB",
        "outputId": "96ebc1f5-4d70-4e7f-a3dd-d252fee20f56"
      },
      "outputs": [
        {
          "output_type": "stream",
          "name": "stdout",
          "text": [
            "tensor(-2.4217e-05, grad_fn=<SumBackward0>)\n"
          ]
        }
      ],
      "source": [
        "print((flow.inverse(flow(D)) - D).sum())\n",
        "assert (flow.inverse(flow(D)) - D).sum() < 1e-4"
      ]
    },
    {
      "cell_type": "code",
      "execution_count": null,
      "metadata": {
        "colab": {
          "base_uri": "https://localhost:8080/",
          "height": 179
        },
        "id": "c8j5If0Y27kW",
        "outputId": "d430b3c8-473f-4f33-a538-a98ef32182a1"
      },
      "outputs": [
        {
          "name": "stdout",
          "output_type": "stream",
          "text": [
            "tensor(0.0024, grad_fn=<SumBackward0>)\n"
          ]
        },
        {
          "ename": "AssertionError",
          "evalue": "",
          "output_type": "error",
          "traceback": [
            "\u001b[0;31m---------------------------------------------------------------------------\u001b[0m",
            "\u001b[0;31mAssertionError\u001b[0m                            Traceback (most recent call last)",
            "\u001b[0;32m<ipython-input-49-ebaf60cd1d53>\u001b[0m in \u001b[0;36m<cell line: 2>\u001b[0;34m()\u001b[0m\n\u001b[1;32m      1\u001b[0m \u001b[0mprint\u001b[0m\u001b[0;34m(\u001b[0m\u001b[0;34m(\u001b[0m\u001b[0mflow\u001b[0m\u001b[0;34m.\u001b[0m\u001b[0minverse\u001b[0m\u001b[0;34m(\u001b[0m\u001b[0mflow\u001b[0m\u001b[0;34m(\u001b[0m\u001b[0mD\u001b[0m\u001b[0;34m)\u001b[0m\u001b[0;34m)\u001b[0m \u001b[0;34m-\u001b[0m \u001b[0mD\u001b[0m\u001b[0;34m)\u001b[0m\u001b[0;34m.\u001b[0m\u001b[0mabs\u001b[0m\u001b[0;34m(\u001b[0m\u001b[0;34m)\u001b[0m\u001b[0;34m.\u001b[0m\u001b[0msum\u001b[0m\u001b[0;34m(\u001b[0m\u001b[0;34m)\u001b[0m\u001b[0;34m)\u001b[0m\u001b[0;34m\u001b[0m\u001b[0;34m\u001b[0m\u001b[0m\n\u001b[0;32m----> 2\u001b[0;31m \u001b[0;32massert\u001b[0m \u001b[0;34m(\u001b[0m\u001b[0mflow\u001b[0m\u001b[0;34m.\u001b[0m\u001b[0minverse\u001b[0m\u001b[0;34m(\u001b[0m\u001b[0mflow\u001b[0m\u001b[0;34m(\u001b[0m\u001b[0mD\u001b[0m\u001b[0;34m)\u001b[0m\u001b[0;34m)\u001b[0m \u001b[0;34m-\u001b[0m \u001b[0mD\u001b[0m\u001b[0;34m)\u001b[0m\u001b[0;34m.\u001b[0m\u001b[0mabs\u001b[0m\u001b[0;34m(\u001b[0m\u001b[0;34m)\u001b[0m\u001b[0;34m.\u001b[0m\u001b[0msum\u001b[0m\u001b[0;34m(\u001b[0m\u001b[0;34m)\u001b[0m \u001b[0;34m<\u001b[0m \u001b[0;36m1e-4\u001b[0m\u001b[0;34m\u001b[0m\u001b[0;34m\u001b[0m\u001b[0m\n\u001b[0m",
            "\u001b[0;31mAssertionError\u001b[0m: "
          ]
        }
      ],
      "source": [
        "print((flow.inverse(flow(D)) - D).abs().sum())\n",
        "assert (flow.inverse(flow(D)) - D).abs().sum() < 1e-4"
      ]
    },
    {
      "cell_type": "code",
      "execution_count": null,
      "metadata": {
        "colab": {
          "base_uri": "https://localhost:8080/"
        },
        "id": "6Z2k3JumND_f",
        "outputId": "db2a4c93-b1b0-4e4c-810e-2618203e433c"
      },
      "outputs": [
        {
          "output_type": "execute_result",
          "data": {
            "text/plain": [
              "tensor(2.5494, grad_fn=<NegBackward0>)"
            ]
          },
          "metadata": {},
          "execution_count": 11
        }
      ],
      "source": [
        "-flow.log_prob(D).mean()"
      ]
    },
    {
      "cell_type": "markdown",
      "metadata": {
        "id": "RRpZANT_9uyT"
      },
      "source": [
        "Normalizirajućim tokom možemo generirati primjere na sljedeći način:"
      ]
    },
    {
      "cell_type": "code",
      "execution_count": null,
      "metadata": {
        "colab": {
          "base_uri": "https://localhost:8080/",
          "height": 472
        },
        "id": "-nC0KnXQ_6Zo",
        "outputId": "c7f63c9a-a2a8-47b6-f18d-f90739dbf629"
      },
      "outputs": [
        {
          "output_type": "display_data",
          "data": {
            "text/plain": [
              "<Figure size 640x480 with 1 Axes>"
            ],
            "image/png": "[encoded data removed]"
          },
          "metadata": {}
        }
      ],
      "source": [
        "X_ = flow.sample(2000).detach()\n",
        "plt.scatter(X_[:, 0], X_[:, 1], 1)\n",
        "plt.title(\"Generated samples\")\n",
        "plt.show()"
      ]
    },
    {
      "cell_type": "code",
      "execution_count": null,
      "metadata": {
        "colab": {
          "base_uri": "https://localhost:8080/",
          "height": 450
        },
        "id": "O7ZL0ILmAUJ4",
        "outputId": "012771d6-6c34-4c2c-d46d-34049e9359e6"
      },
      "outputs": [
        {
          "output_type": "display_data",
          "data": {
            "text/plain": [
              "<Figure size 640x480 with 1 Axes>"
            ],
            "image/png": "[encoded data removed]"
          },
          "metadata": {}
        }
      ],
      "source": [
        "plt.clf()\n",
        "plt.scatter(D[:, 0], D[:, 1], 1)\n",
        "plt.scatter(X_[:, 0], X_[:, 1], 1)\n",
        "plt.show()"
      ]
    },
    {
      "cell_type": "markdown",
      "metadata": {
        "id": "SQcdNm-wuVTR"
      },
      "source": [
        "Tok definiran razredom SimpleNF ne može ostvariti veliki kapacitet jer je kompozicija linearnih transformacija i dalje linearna transformacija. Stoga modelirana distribucija ne uspijeva dovoljno dobro aproksimirati $p_D$. Bolju aproksimaciju dobiti ćemo sofisticiranijom arhitekturom pod nazivom [RealNVP](https://arxiv.org/abs/1605.08803). RealNVP se sastoji od \"slojeva\" afinog miješanja koji su invertibilni po konstrukciji. Imajte na umu da afino miješanje tipično ostvarujemo s više slojeva dubokog modela jer modul miješanja `net` može sadržavati (i tipično sadrži) veći broj uzastopnih nelinearnih transformacija.\n",
        "\n",
        "Unaprijedni prolaz kroz afino miješanje s ulazom $\\mathbf{x}$ dimenzionalnosti $d$ definiramo kao ($m < d$):\n",
        "$$\n",
        "\\mathbf{z}_{:m} = \\mathbf{x}_{:m}\n",
        "$$\n",
        "$$\n",
        "\\mathbf{z}_{m:d} = \\exp(\\ln\\mathbf{s}) \\odot \\mathbf{x}_{m:d} + \\mathbf{t}, \\quad \\ln s, t = net(\\mathbf{x}_{:m})\n",
        "$$"
      ]
    },
    {
      "cell_type": "markdown",
      "metadata": {
        "id": "muwz51aNwVdb"
      },
      "source": [
        "**Zadatak 5.**: Skicirajte računske grafove unaprijednog i unatražnog prolaza kroz afino miješanje. \\\n",
        "Nadopunite predloženi razred `AffineCouplingLayer` s prikladnom funkcionalnošću.\n",
        "Afino miješanje transformira samo polovicu ulaznog tezora $\\mathbf{x}_{m:d}$, dok druga polovica $\\mathbf{x}_{:m}$ ostaje nepromijenjena.\n",
        "Modul miješanja `net` predviđa parametre miješanja `log_s` i `t` iz polovice ulaznog tenzora $\\mathbf{x}_{:m}$."
      ]
    },
    {
      "cell_type": "code",
      "execution_count": null,
      "metadata": {
        "id": "zCh0mGhOeK1Q"
      },
      "outputs": [],
      "source": [
        "class AffineCouplingLayer(_Bijection):\n",
        "    def __init__(self, net):\n",
        "        super(AffineCouplingLayer, self).__init__()\n",
        "        self.net = net\n",
        "\n",
        "    def forward(self, x):  # NxD\n",
        "        m = self.net.dim_in\n",
        "        x1, x2 = x[:, :m], x[:, m:]\n",
        "        log_s, t = self.net(x1)\n",
        "        s = torch.exp(log_s)\n",
        "        z1 = x1\n",
        "        z2 = s * x2 + t\n",
        "\n",
        "        log_det = torch.sum(log_s, dim=1)\n",
        "        z = torch.cat([z1, z2], dim=1)\n",
        "        return z, log_det  # NxD , N\n",
        "\n",
        "    def inverse(self, y):  # NxD\n",
        "        m = self.net.dim_in\n",
        "        y1, y2 = y[:, :m], y[:, m:]\n",
        "        x1 = y1\n",
        "        log_s, t = self.net(x1)\n",
        "        s = torch.exp(log_s)\n",
        "        x2 = (y2 - t) / (s + 1e-7) # numerical stability\n",
        "\n",
        "        x = torch.cat([x1, x2], dim=1)\n",
        "        return x  # NxD"
      ]
    },
    {
      "cell_type": "markdown",
      "metadata": {
        "id": "5O75bubJeUNM"
      },
      "source": [
        "**Zadatak 6.:** Zamislimo situaciju gdje slijedno primjenjujemo više coupling slojeva. Možemo primijetiti da će se miješati samo jedna polovica tenzora. Kako bismo osigurali da se miješaju obje polovice ulaznog tenzora, uvodimo transformaciju `SwitchSides` koju ćemo primijeniti nakon svakog coupling sloja.\n",
        "Na taj način osiguravamo da miješanje provodimo naizmjenično na dvjema polovicama ulaznog tenzora. \\\n",
        "Tenzor dijelimo po dimenziji značajki. Dovršite implementaciju razreda `SwitchSides` tako da dijeli ulazni tenzor na dva dijela po dimenziji značajki i zamjenjuje im strane. Možete iskoristiti funkcije [chunk](https://pytorch.org/docs/stable/generated/torch.chunk.html) i [cat](https://pytorch.org/docs/stable/generated/torch.cat.html)."
      ]
    },
    {
      "cell_type": "code",
      "execution_count": null,
      "metadata": {
        "id": "nAGiRWSqgNAl"
      },
      "outputs": [],
      "source": [
        "class SwitchSides(_Bijection):\n",
        "    def forward(self, x):\n",
        "        x1, x2 = x.chunk(2, dim=1)\n",
        "        y = torch.cat([x2, x1], dim=1)\n",
        "        return y, 0.0\n",
        "\n",
        "    def inverse(self, z):\n",
        "        \"\"\"\n",
        "        torch.chunk will add one element to the left side if there’s an odd number of elements.\n",
        "        To ensure that inverse(forward(x)) == x, we then need to manually add an extra element\n",
        "        to the right side during the inverse operation.\n",
        "        torch.chunk automatically gives an extra element to the left side in forward,\n",
        "        but for inverse we must manually give an extra element to the right side.\n",
        "        \"\"\"\n",
        "        dim = z.shape[1]\n",
        "        split_idx = dim // 2\n",
        "        z1, z2 = z[:, :split_idx], z[:, split_idx:]\n",
        "        x = torch.cat([z2, z1], dim=1)\n",
        "        return x"
      ]
    },
    {
      "cell_type": "code",
      "execution_count": null,
      "metadata": {
        "colab": {
          "base_uri": "https://localhost:8080/"
        },
        "id": "vDXV0QuiO7AU",
        "outputId": "947193b3-c477-41f6-c312-ff72d82274b9"
      },
      "outputs": [
        {
          "output_type": "execute_result",
          "data": {
            "text/plain": [
              "True"
            ]
          },
          "metadata": {},
          "execution_count": 16
        }
      ],
      "source": [
        "switch_sides = SwitchSides()\n",
        "torch.allclose(switch_sides.inverse(switch_sides(D)[0]), D)"
      ]
    },
    {
      "cell_type": "markdown",
      "metadata": {
        "id": "8sqlpbo-gi19"
      },
      "source": [
        "**Zadatak 7.:**U nastavku je dan razred `SimpleTransform` kojeg ćemo koristiti kao modul afinog miješanja u coupling sloju. Primijetite da će primjerci tog razreda biti atributi `net` razreda `AffineCouplingLayer`.\\\n",
        "Dovršite implementaciju tako da `model` bude potpuno povezani modul sljedeće arhitekture:\n",
        "\n",
        "`fc(dim, internal_dim) -> relu -> fc(internal_dim, internal_dim) -> relu -> fc(internal_dim, 2*dim)`.\n",
        "\n",
        "Dimenziju skrivenog sloja potpuno povezanog modula određujemo parametrom `inflate_coef`. \\\n",
        "\n",
        "\n",
        "Inicijalizirajte parametre modula miješanja tako da modul provodi transformaciju koja je jednaka identitetu. \\"
      ]
    },
    {
      "cell_type": "code",
      "execution_count": null,
      "metadata": {
        "id": "sLGHf7WPgiIr"
      },
      "outputs": [],
      "source": [
        "class SimpleTransform(nn.Module):\n",
        "    def __init__(self, dim_in, dim_out, inflate_coef=1):\n",
        "        super(SimpleTransform, self).__init__()\n",
        "        self.dim_in = dim_in\n",
        "        self.dim_out = dim_out\n",
        "        internal_dim = int(dim_in * inflate_coef)\n",
        "\n",
        "        \"\"\"\n",
        "        The final linear layer has a dimension of dim * 2 because we have dim parameters for log_s and dim parameters for t.\n",
        "        Concatenate [log_scale, shift], it would be the same if we had two independent nets.\n",
        "        It's similar to transfer learning where everything except the last layer is the same for both parameters,\n",
        "        and only weights and biases for the last layer are different.\n",
        "        \"\"\"\n",
        "        self.model = nn.Sequential(\n",
        "            nn.Linear(dim_in, internal_dim),\n",
        "            nn.ReLU(),\n",
        "            nn.Linear(internal_dim, internal_dim),\n",
        "            nn.ReLU(),\n",
        "            nn.Linear(internal_dim, dim_out * 2),\n",
        "        )\n",
        "\n",
        "        \"\"\"\n",
        "        Since we want the identity matrix at the initialization of the NF, we actually want these conditions:\n",
        "            1) t = 0\n",
        "            2) exp(log_s) = 1 => log_s = 0\n",
        "        So we can actually just set the last layer w *= 0, b *= 0.\n",
        "        For stability, it might also be a good idea to set previous layers to smaller values.\n",
        "        Not sure if this is a good idea.\n",
        "        \"\"\"\n",
        "        with torch.no_grad():\n",
        "            # for layer in self.model:\n",
        "            #     if isinstance(layer, nn.Linear):\n",
        "            #         layer.weight.zero_()\n",
        "            #         layer.bias.zero_()\n",
        "\n",
        "            last_linear_layer = self.model[-1]\n",
        "            last_linear_layer.weight.zero_()\n",
        "            last_linear_layer.bias.zero_()\n",
        "\n",
        "\n",
        "\n",
        "    def forward(self, x):\n",
        "        out = self.model(x)\n",
        "        log_s, t = torch.chunk(out, dim=1, chunks=2)\n",
        "        return log_s, t"
      ]
    },
    {
      "cell_type": "code",
      "execution_count": null,
      "metadata": {
        "id": "BB25jCUlhIly"
      },
      "outputs": [],
      "source": [
        "class SimpleRealNVP(NormalizingFlow):\n",
        "    def __init__(self, input_dim, num_steps=2):\n",
        "        transforms = nn.Sequential()\n",
        "        for i in range(num_steps):\n",
        "            dim_in = input_dim // 2\n",
        "            transforms.append(\n",
        "                AffineCouplingLayer(SimpleTransform(dim_in, input_dim - dim_in))\n",
        "            )\n",
        "            if i != num_steps - 1:\n",
        "                transforms.append(SwitchSides())\n",
        "        super(SimpleRealNVP, self).__init__(transforms, input_dim)"
      ]
    },
    {
      "cell_type": "markdown",
      "metadata": {
        "id": "7CsDfjxsh_qC"
      },
      "source": [
        "Tok možemo naučiti na način kako slijedi:"
      ]
    },
    {
      "cell_type": "code",
      "execution_count": null,
      "metadata": {
        "colab": {
          "base_uri": "https://localhost:8080/"
        },
        "id": "MrmFJy6FJFDt",
        "outputId": "086eff82-3999-4453-9947-b92df1822a87"
      },
      "outputs": [
        {
          "output_type": "stream",
          "name": "stdout",
          "text": [
            "Iter 1: Loss:3.0862061977386475\n",
            "Iter 21: Loss:3.053638458251953\n",
            "Iter 41: Loss:3.0354361534118652\n",
            "Iter 61: Loss:2.959836006164551\n",
            "Iter 81: Loss:2.6046385765075684\n",
            "Iter 101: Loss:2.5042879581451416\n",
            "Iter 121: Loss:2.496544122695923\n",
            "Iter 141: Loss:2.494014024734497\n",
            "Iter 161: Loss:2.4920847415924072\n",
            "Iter 181: Loss:2.4903039932250977\n",
            "Iter 201: Loss:2.488503932952881\n",
            "Iter 221: Loss:2.486572742462158\n",
            "Iter 241: Loss:2.484443187713623\n",
            "Iter 261: Loss:2.4821035861968994\n",
            "Iter 281: Loss:2.4796135425567627\n",
            "Iter 301: Loss:2.4770851135253906\n",
            "Iter 321: Loss:2.47464656829834\n",
            "Iter 341: Loss:2.4723081588745117\n",
            "Iter 361: Loss:2.4700536727905273\n",
            "Iter 381: Loss:2.46781587600708\n",
            "Iter 401: Loss:2.4655189514160156\n",
            "Iter 421: Loss:2.463148593902588\n",
            "Iter 441: Loss:2.4607603549957275\n",
            "Iter 461: Loss:2.458348274230957\n",
            "Iter 481: Loss:2.4559578895568848\n",
            "Iter 501: Loss:2.4536609649658203\n",
            "Iter 521: Loss:2.4515645503997803\n",
            "Iter 541: Loss:2.4497153759002686\n",
            "Iter 561: Loss:2.4482226371765137\n",
            "Iter 581: Loss:2.4471435546875\n",
            "Iter 601: Loss:2.4464290142059326\n",
            "Iter 621: Loss:2.44599986076355\n",
            "Iter 641: Loss:2.445774793624878\n",
            "Iter 661: Loss:2.445643901824951\n",
            "Iter 681: Loss:2.445561647415161\n",
            "Iter 701: Loss:2.445516586303711\n",
            "Iter 721: Loss:2.445495367050171\n",
            "Iter 741: Loss:2.4454824924468994\n",
            "Iter 761: Loss:2.445474147796631\n",
            "Iter 781: Loss:2.445465564727783\n",
            "Iter 801: Loss:2.44545841217041\n",
            "Iter 821: Loss:2.4454526901245117\n",
            "Iter 841: Loss:2.445448160171509\n",
            "Iter 861: Loss:2.4454450607299805\n",
            "Iter 881: Loss:2.4454407691955566\n",
            "Iter 901: Loss:2.4454362392425537\n",
            "Iter 921: Loss:2.4454312324523926\n",
            "Iter 941: Loss:2.4454286098480225\n",
            "Iter 961: Loss:2.4454257488250732\n",
            "Iter 981: Loss:2.4454236030578613\n",
            "Iter 1001: Loss:2.445422887802124\n",
            "Iter 1021: Loss:2.4454219341278076\n",
            "Iter 1041: Loss:2.445420742034912\n",
            "Iter 1061: Loss:2.4454197883605957\n",
            "Iter 1081: Loss:2.4454190731048584\n",
            "Iter 1101: Loss:2.445418357849121\n",
            "Iter 1121: Loss:2.445417881011963\n",
            "Iter 1141: Loss:2.4454169273376465\n",
            "Iter 1161: Loss:2.4454164505004883\n",
            "Iter 1181: Loss:2.445415735244751\n",
            "Iter 1201: Loss:2.4454147815704346\n",
            "Iter 1221: Loss:2.445413589477539\n",
            "Iter 1241: Loss:2.4454128742218018\n",
            "Iter 1261: Loss:2.4454121589660645\n",
            "Iter 1281: Loss:2.445411205291748\n",
            "Iter 1301: Loss:2.4454104900360107\n",
            "Iter 1321: Loss:2.4454095363616943\n",
            "Iter 1341: Loss:2.445409059524536\n",
            "Iter 1361: Loss:2.445408582687378\n",
            "Iter 1381: Loss:2.4454073905944824\n",
            "Iter 1401: Loss:2.4454071521759033\n",
            "Iter 1421: Loss:2.445406198501587\n",
            "Iter 1441: Loss:2.4454057216644287\n",
            "Iter 1461: Loss:2.4454050064086914\n",
            "Iter 1481: Loss:2.445404052734375\n",
            "Iter 1501: Loss:2.445403814315796\n",
            "Iter 1521: Loss:2.4454028606414795\n",
            "Iter 1541: Loss:2.4454023838043213\n",
            "Iter 1561: Loss:2.445401668548584\n",
            "Iter 1581: Loss:2.4454007148742676\n",
            "Iter 1601: Loss:2.4453999996185303\n",
            "Iter 1621: Loss:2.445399522781372\n",
            "Iter 1641: Loss:2.4453985691070557\n",
            "Iter 1661: Loss:2.44539737701416\n",
            "Iter 1681: Loss:2.44539737701416\n",
            "Iter 1701: Loss:2.4453964233398438\n",
            "Iter 1721: Loss:2.4453954696655273\n",
            "Iter 1741: Loss:2.445394992828369\n",
            "Iter 1761: Loss:2.4453940391540527\n",
            "Iter 1781: Loss:2.4453933238983154\n",
            "Iter 1801: Loss:2.445392608642578\n",
            "Iter 1821: Loss:2.445391893386841\n",
            "Iter 1841: Loss:2.4453911781311035\n",
            "Iter 1861: Loss:2.445390462875366\n",
            "Iter 1881: Loss:2.445389747619629\n",
            "Iter 1901: Loss:2.4453887939453125\n",
            "Iter 1921: Loss:2.445387601852417\n",
            "Iter 1941: Loss:2.445387363433838\n",
            "Iter 1961: Loss:2.4453866481781006\n",
            "Iter 1981: Loss:2.445385694503784\n",
            "Iter 2001: Loss:2.4453847408294678\n",
            "Iter 2021: Loss:2.4453840255737305\n",
            "Iter 2041: Loss:2.445383310317993\n",
            "Iter 2061: Loss:2.4453823566436768\n",
            "Iter 2081: Loss:2.4453818798065186\n",
            "Iter 2101: Loss:2.445380926132202\n",
            "Iter 2121: Loss:2.4453799724578857\n",
            "Iter 2141: Loss:2.4453790187835693\n",
            "Iter 2161: Loss:2.445378541946411\n",
            "Iter 2181: Loss:2.4453775882720947\n",
            "Iter 2201: Loss:2.4453768730163574\n",
            "Iter 2221: Loss:2.445375919342041\n",
            "Iter 2241: Loss:2.4453752040863037\n",
            "Iter 2261: Loss:2.4453742504119873\n",
            "Iter 2281: Loss:2.44537353515625\n",
            "Iter 2301: Loss:2.4453725814819336\n",
            "Iter 2321: Loss:2.445371627807617\n",
            "Iter 2341: Loss:2.44537091255188\n",
            "Iter 2361: Loss:2.4453701972961426\n",
            "Iter 2381: Loss:2.445369243621826\n",
            "Iter 2401: Loss:2.4453682899475098\n",
            "Iter 2421: Loss:2.4453675746917725\n",
            "Iter 2441: Loss:2.445366859436035\n",
            "Iter 2461: Loss:2.4453659057617188\n",
            "Iter 2481: Loss:2.4453647136688232\n",
            "Iter 2501: Loss:2.445363759994507\n",
            "Iter 2521: Loss:2.4453628063201904\n",
            "Iter 2541: Loss:2.445362091064453\n",
            "Iter 2561: Loss:2.4453611373901367\n",
            "Iter 2581: Loss:2.4453601837158203\n",
            "Iter 2601: Loss:2.445359230041504\n",
            "Iter 2621: Loss:2.4453582763671875\n",
            "Iter 2641: Loss:2.445357322692871\n",
            "Iter 2661: Loss:2.4453563690185547\n",
            "Iter 2681: Loss:2.4453554153442383\n",
            "Iter 2701: Loss:2.445354461669922\n",
            "Iter 2721: Loss:2.4453535079956055\n",
            "Iter 2741: Loss:2.445352792739868\n",
            "Iter 2761: Loss:2.4453516006469727\n",
            "Iter 2781: Loss:2.445350408554077\n",
            "Iter 2801: Loss:2.4453492164611816\n",
            "Iter 2821: Loss:2.4453485012054443\n",
            "Iter 2841: Loss:2.445347309112549\n",
            "Iter 2861: Loss:2.4453463554382324\n",
            "Iter 2881: Loss:2.445345163345337\n",
            "Iter 2901: Loss:2.4453442096710205\n",
            "Iter 2921: Loss:2.445343017578125\n",
            "Iter 2941: Loss:2.4453418254852295\n",
            "Iter 2961: Loss:2.445341110229492\n",
            "Iter 2981: Loss:2.4453399181365967\n",
            "Iter 3001: Loss:2.445338487625122\n",
            "Iter 3021: Loss:2.4453375339508057\n",
            "Iter 3041: Loss:2.44533634185791\n",
            "Iter 3061: Loss:2.445335626602173\n",
            "Iter 3081: Loss:2.445333957672119\n",
            "Iter 3101: Loss:2.4453327655792236\n",
            "Iter 3121: Loss:2.4453318119049072\n",
            "Iter 3141: Loss:2.4453306198120117\n",
            "Iter 3161: Loss:2.445329427719116\n",
            "Iter 3181: Loss:2.4453282356262207\n",
            "Iter 3201: Loss:2.445327043533325\n",
            "Iter 3221: Loss:2.4453258514404297\n",
            "Iter 3241: Loss:2.4453248977661133\n",
            "Iter 3261: Loss:2.4453234672546387\n",
            "Iter 3281: Loss:2.445322275161743\n",
            "Iter 3301: Loss:2.4453208446502686\n",
            "Iter 3321: Loss:2.445319414138794\n",
            "Iter 3341: Loss:2.4453184604644775\n",
            "Iter 3361: Loss:2.445317268371582\n",
            "Iter 3381: Loss:2.4453160762786865\n",
            "Iter 3401: Loss:2.445314884185791\n",
            "Iter 3421: Loss:2.4453134536743164\n",
            "Iter 3441: Loss:2.445312023162842\n",
            "Iter 3461: Loss:2.4453108310699463\n",
            "Iter 3481: Loss:2.445309638977051\n",
            "Iter 3501: Loss:2.4453086853027344\n",
            "Iter 3521: Loss:2.4453070163726807\n",
            "Iter 3541: Loss:2.445305824279785\n",
            "Iter 3561: Loss:2.4453043937683105\n",
            "Iter 3581: Loss:2.445303201675415\n",
            "Iter 3601: Loss:2.4453017711639404\n",
            "Iter 3621: Loss:2.445300340652466\n",
            "Iter 3641: Loss:2.445298910140991\n",
            "Iter 3661: Loss:2.4452977180480957\n",
            "Iter 3681: Loss:2.445296049118042\n",
            "Iter 3701: Loss:2.4452950954437256\n",
            "Iter 3721: Loss:2.445293426513672\n",
            "Iter 3741: Loss:2.445291757583618\n",
            "Iter 3761: Loss:2.4452905654907227\n",
            "Iter 3781: Loss:2.445289134979248\n",
            "Iter 3801: Loss:2.4452877044677734\n",
            "Iter 3821: Loss:2.445286273956299\n",
            "Iter 3841: Loss:2.445284843444824\n",
            "Iter 3861: Loss:2.4452834129333496\n",
            "Iter 3881: Loss:2.445281744003296\n",
            "Iter 3901: Loss:2.4452805519104004\n",
            "Iter 3921: Loss:2.4452786445617676\n",
            "Iter 3941: Loss:2.445277452468872\n",
            "Iter 3961: Loss:2.4452757835388184\n",
            "Iter 3981: Loss:2.4452738761901855\n"
          ]
        }
      ],
      "source": [
        "flow = SimpleRealNVP(2, num_steps=7)\n",
        "optim = torch.optim.SGD(flow.parameters(), lr=1e-2, nesterov=True, momentum=0.9)\n",
        "\n",
        "for iter in range(4000):\n",
        "    optim.zero_grad()\n",
        "    log_px = flow.log_prob(D)\n",
        "    loss = - (log_px).mean()\n",
        "    total_loss = loss\n",
        "    total_loss.backward()\n",
        "    optim.step()\n",
        "    if iter % 20 == 0:\n",
        "        print(f\"Iter {iter+1}: Loss:{loss.item()}\")"
      ]
    },
    {
      "cell_type": "code",
      "execution_count": null,
      "metadata": {
        "colab": {
          "base_uri": "https://localhost:8080/"
        },
        "id": "l_wcddTYw64q",
        "outputId": "c8a602c4-e997-41eb-c323-d4a475666220"
      },
      "outputs": [
        {
          "output_type": "stream",
          "name": "stdout",
          "text": [
            "tensor(-0.0018, grad_fn=<SumBackward0>)\n"
          ]
        }
      ],
      "source": [
        "print((flow.inverse(flow(D)) - D).sum())\n",
        "assert (flow.inverse(flow(D)) - D).sum() < 1e-4"
      ]
    },
    {
      "cell_type": "code",
      "execution_count": null,
      "metadata": {
        "id": "jDy--jYaJO2Q",
        "colab": {
          "base_uri": "https://localhost:8080/",
          "height": 454
        },
        "outputId": "caf4d24e-cb51-4629-da9e-d3ce2debeb01"
      },
      "outputs": [
        {
          "output_type": "display_data",
          "data": {
            "text/plain": [
              "<Figure size 640x480 with 1 Axes>"
            ],
            "image/png": "[encoded data removed]"
          },
          "metadata": {}
        }
      ],
      "source": [
        "X_ = flow.sample(2000, 1).detach()\n",
        "plt.scatter(X_[:, 0], X_[:, 1], 1)\n",
        "plt.show()"
      ]
    },
    {
      "cell_type": "code",
      "execution_count": null,
      "metadata": {
        "id": "5TIb8DhgJpB1",
        "colab": {
          "base_uri": "https://localhost:8080/",
          "height": 471
        },
        "outputId": "dd682878-291f-4c09-91f1-9bef9632bdb9"
      },
      "outputs": [
        {
          "output_type": "execute_result",
          "data": {
            "text/plain": [
              "<matplotlib.collections.PathCollection at 0x7a251ccd1480>"
            ]
          },
          "metadata": {},
          "execution_count": 22
        },
        {
          "output_type": "display_data",
          "data": {
            "text/plain": [
              "<Figure size 640x480 with 1 Axes>"
            ],
            "image/png": "[encoded data removed]"
          },
          "metadata": {}
        }
      ],
      "source": [
        "plt.clf()\n",
        "plt.scatter(D[:, 0], D[:, 1], 1)\n",
        "plt.scatter(X_[:, 0], X_[:, 1], 1)"
      ]
    },
    {
      "cell_type": "markdown",
      "metadata": {
        "id": "YXCecEFb-ae8"
      },
      "source": [
        "Kao što vidite, kapacitetniji tok uspijeva dobro aproksimirati dani skup podataka."
      ]
    },
    {
      "cell_type": "markdown",
      "metadata": {
        "id": "cntMrCuDwlkj"
      },
      "source": [
        "## Modeliranje slika normalizirajućim tokom"
      ]
    },
    {
      "cell_type": "markdown",
      "metadata": {
        "id": "fihSoOBAfgWD"
      },
      "source": [
        "Naš sljedeći zadatak je modelirati distribuciju slika s normalizirajućim tokom. Slike možemo prestaviti diskretnim tenzorom $\\mathbf{x} \\in [0, 255]^{C \\times H \\times W}$. Prisjetimo se da smo normalizirajući tok definirali za kontinuirane slučajne varijable. Stoga, potrebno je transfrormirati skup podataka u kontinuiranu domenu pomoću zašumljivanja:\n",
        "\n",
        "$$\n",
        "\\mathbf{y} = \\mathbf{x} + \\mathbf{u}, \\quad \\mathbf{u} \\sim \\mathrm{U}[0, 1)\n",
        "$$\n",
        "U prestavlja uniformnu razdiobu. Sada, naš model uči modelirati zašumljenu sliku. Više o dekvantizaciji zašumljivanjem možete pronaći [ovdje](https://arxiv.org/pdf/1511.01844.pdf).\n",
        "\n",
        "MNIST je skup jednostavnih slika pa ćemo se sljedećim pojednostavljenjem. Sliku ćemo ispeglati u vektor i normalizirajućim tokom učiti takvu reprezentaciju slike.\n",
        "\n",
        "U nastavku je dan kod za pripremanje skupa slika."
      ]
    },
    {
      "cell_type": "code",
      "execution_count": null,
      "metadata": {
        "id": "mjAxWg880ZoT"
      },
      "outputs": [],
      "source": [
        "from torchvision.datasets import MNIST\n",
        "import torchvision.transforms as tf\n",
        "from torch.utils.data import DataLoader, Subset"
      ]
    },
    {
      "cell_type": "code",
      "execution_count": null,
      "metadata": {
        "id": "kcLh-YF3siTG"
      },
      "outputs": [],
      "source": [
        "# hyperparams\n",
        "img_size = 14\n",
        "batch_size = 128\n",
        "selected_number = 0\n",
        "lr = 1e-5\n",
        "device = \"cuda\" if torch.cuda.is_available() else \"cpu\"\n",
        "bits = 8\n",
        "num_transforms = 21\n",
        "num_iters = 1000\n",
        "bits = 8\n",
        "eval_iter_freq = 50"
      ]
    },
    {
      "cell_type": "code",
      "execution_count": null,
      "metadata": {
        "id": "hlg0BSAw0bGb"
      },
      "outputs": [],
      "source": [
        "train_ds = MNIST('.', train=True, download=True, transform=tf.Compose([tf.Resize(img_size), tf.ToTensor()]))\n",
        "test_ds = MNIST('.', train=False, download=True, transform=tf.Compose([tf.Resize(img_size), tf.ToTensor()]))\n",
        "\n",
        "loaders = {}\n",
        "for selected_number in range(10):\n",
        "    indices = [r[0] for r in list(filter(lambda x: x[1] == selected_number ,[(i, train_ds[i][1]) for i in range(len(train_ds))]))]\n",
        "    digit_train_ds = Subset(train_ds, indices)\n",
        "\n",
        "    indices = [r[0] for r in list(filter(lambda x: x[1] == selected_number ,[(i, test_ds[i][1]) for i in range(len(test_ds))]))]\n",
        "    digit_test_ds = Subset(test_ds, indices)\n",
        "\n",
        "    train_loader = DataLoader(digit_train_ds, batch_size=batch_size, shuffle=True)\n",
        "    test_loader = DataLoader(digit_test_ds, batch_size=batch_size, shuffle=False)\n",
        "    loaders[selected_number] = (train_loader, test_loader)"
      ]
    },
    {
      "cell_type": "code",
      "execution_count": null,
      "metadata": {
        "id": "MBQdhaR2o1y4"
      },
      "outputs": [],
      "source": [
        "def plot_mnist(samples, num_row, num_col):\n",
        "    assert len(samples) ==  num_row * num_col\n",
        "    fig, axes = plt.subplots(num_row, num_col, figsize=(1.5*num_col,2*num_row))\n",
        "    for i in range(len(samples)):\n",
        "        ax = axes[i//num_col, i%num_col]\n",
        "        ax.imshow(samples[i], cmap='gray')\n",
        "    plt.tight_layout()\n",
        "    plt.show()"
      ]
    },
    {
      "cell_type": "code",
      "execution_count": null,
      "metadata": {
        "id": "8plOmcG3o7O6",
        "colab": {
          "base_uri": "https://localhost:8080/",
          "height": 320
        },
        "outputId": "df80ae2f-1bae-481a-a128-1decd92495f6"
      },
      "outputs": [
        {
          "output_type": "display_data",
          "data": {
            "text/plain": [
              "<Figure size 750x400 with 10 Axes>"
            ],
            "image/png": "[encoded data removed]"
          },
          "metadata": {}
        }
      ],
      "source": [
        "samples = [train_ds[i][0][0] for i in range(10)]\n",
        "plot_mnist(samples, 2, 5)"
      ]
    },
    {
      "cell_type": "markdown",
      "metadata": {
        "id": "5xkU9mPWkiwy"
      },
      "source": [
        "**Zadatak 8.:** Predložite arhitekturu toka koji će moći naučiti distribuciju vektoriziranih slika. Predlažemo koristiti rezidualni blok sljedeće arhitekture.\n",
        "\n",
        "`fc(dim, dim) -> BN -> relu -> fc(dim, dim) -> relu`\n",
        "\n",
        "Potrebno je dodati rezidualnu vezu od ulaza u rezidualni blok do latentne reprezentacije prije posljednje zglobnice.\n",
        "Dovršite implementaciju i validirajte utjecaj batchnorma na proces učenja i konačne rezultate."
      ]
    },
    {
      "cell_type": "code",
      "execution_count": null,
      "metadata": {
        "id": "5RJt87gc9HoI"
      },
      "outputs": [],
      "source": [
        "class ResidualBlock(nn.Module):\n",
        "    def __init__(self, dim, use_bn=False):\n",
        "        super(ResidualBlock, self).__init__()\n",
        "\n",
        "        self.layers = nn.Sequential()\n",
        "        self.layers.append(nn.Linear(dim, dim))\n",
        "        if use_bn:\n",
        "            self.layers.append(nn.BatchNorm1d(dim))\n",
        "        self.layers.append(nn.ReLU())\n",
        "        self.layers.append(nn.Linear(dim, dim))\n",
        "        self.f_relu = nn.ReLU()\n",
        "\n",
        "    def forward(self, x):\n",
        "        identity = x\n",
        "        out = self.layers(x)\n",
        "        out = out + identity\n",
        "        return self.f_relu(out)"
      ]
    },
    {
      "cell_type": "markdown",
      "metadata": {
        "id": "zaPosHKakhA8"
      },
      "source": [
        "**Zadatak 9.:** Po uzoru na razred `SimpleTransform` dovršite implementaciju razreda `SimpleResidualTransform` čiji se modul miješanja sastoji od rezidualnih blokova. Predlažemo sljedeću arhitekturu:\n",
        "\n",
        "`fc(dim, internal_dim) -> relu -> res_block(internal_dim, internal_dim) -> fc(internal_dim, 2*dim)`\n",
        "\n",
        "Eksperimentirajte s brojem rezidualnih blokova. Kako broj rezidualnih blokova utječe na rezultate?"
      ]
    },
    {
      "cell_type": "code",
      "execution_count": null,
      "metadata": {
        "id": "Cdj5_SS1kS1B"
      },
      "outputs": [],
      "source": [
        "class SimpleResidualTransform(nn.Module):\n",
        "    def __init__(self, dim_in, dim_out, inflate_coef=1):\n",
        "        super(SimpleResidualTransform, self).__init__()\n",
        "        self.dim_in = dim_in\n",
        "        self.dim_out = dim_out\n",
        "        internal_dim = int(dim_in * inflate_coef)\n",
        "\n",
        "        self.model = nn.Sequential(\n",
        "            nn.Linear(dim_in, internal_dim),\n",
        "            nn.ReLU(),\n",
        "            ResidualBlock(internal_dim, use_bn=True),\n",
        "            nn.Linear(internal_dim, dim_out * 2),\n",
        "        )\n",
        "\n",
        "        with torch.no_grad():\n",
        "            # for layer in self.model:\n",
        "                #     if isinstance(layer, nn.Linear):\n",
        "                #         layer.weight.zero_()\n",
        "                #         layer.bias.zero_()\n",
        "\n",
        "            last_linear_layer = self.model[-1]\n",
        "            last_linear_layer.weight.zero_()\n",
        "            last_linear_layer.bias.zero_()\n",
        "\n",
        "\n",
        "    def forward(self, x):\n",
        "        out = self.model(x)\n",
        "        log_s, t = torch.chunk(out, dim=1, chunks=2)\n",
        "        return log_s, t"
      ]
    },
    {
      "cell_type": "markdown",
      "metadata": {
        "id": "378krGZ-zZUh"
      },
      "source": [
        "**Zadatak 10.:** Dovršte implementaciju razreda `RealNVP` po uzoru na `SimpleRealNVP`. `RealNVP` treba koristiti `SimpleResidualTransform` umjesto `SimpleTransform` kao modul miješanja."
      ]
    },
    {
      "cell_type": "code",
      "execution_count": null,
      "metadata": {
        "id": "4wi9loJekhwN"
      },
      "outputs": [],
      "source": [
        "class RealNVP(NormalizingFlow):\n",
        "    def __init__(self, input_dim, num_steps=2):\n",
        "        transforms = nn.Sequential()\n",
        "        for i in range(num_steps):\n",
        "            dim_in = input_dim // 2\n",
        "            transforms.append(\n",
        "                AffineCouplingLayer(SimpleResidualTransform(dim_in, input_dim - dim_in))\n",
        "            )\n",
        "            if i != num_steps - 1:\n",
        "                transforms.append(SwitchSides())\n",
        "\n",
        "        super(RealNVP, self).__init__(transforms, input_dim)"
      ]
    },
    {
      "cell_type": "code",
      "source": [
        "x = torch.arange(20).reshape(10, 2).float()\n",
        "flow = RealNVP(2, num_steps=10)\n",
        "torch.allclose(flow.inverse(flow(x)), x)"
      ],
      "metadata": {
        "colab": {
          "base_uri": "https://localhost:8080/"
        },
        "id": "m5g-U6zrAzyY",
        "outputId": "83de6762-6148-4517-a964-ab5bbba13901"
      },
      "execution_count": null,
      "outputs": [
        {
          "output_type": "execute_result",
          "data": {
            "text/plain": [
              "True"
            ]
          },
          "metadata": {},
          "execution_count": 31
        }
      ]
    },
    {
      "cell_type": "markdown",
      "metadata": {
        "id": "uPJ_jdPGz7F9"
      },
      "source": [
        "U nastavku je kod za učenje toka.\n",
        "\n",
        "Obratite pozornost na to da izglednost slike prikazujemo u bitovima po dimenziji (BPD). Podsjetite se što ta mjera predstavlja i kako ju računamo."
      ]
    },
    {
      "cell_type": "code",
      "source": [
        "def save_checkpoint(model, optimizer, epoch, path):\n",
        "    os.makedirs(os.path.dirname(path), exist_ok=True)\n",
        "    checkpoint = {\n",
        "        'epoch': epoch,\n",
        "        'model_state_dict': model.state_dict() if model else None,\n",
        "        'optimizer_state_dict': optimizer.state_dict() if optimizer else None\n",
        "    }\n",
        "    torch.save(checkpoint, path)\n",
        "    print(f\"Checkpoint saved at {path}\")\n",
        "\n",
        "def load_checkpoint(model, optimizer, path):\n",
        "    checkpoint = torch.load(path)\n",
        "    if model:\n",
        "        model.load_state_dict(checkpoint['model_state_dict'])\n",
        "    if optimizer:\n",
        "        optimizer.load_state_dict(checkpoint['optimizer_state_dict'])\n",
        "    epoch = checkpoint['epoch']\n",
        "    print(f\"Checkpoint loaded from {path} at epoch {epoch}\")\n",
        "    return model, optimizer, epoch"
      ],
      "metadata": {
        "id": "4ndNH4e9bZ4n"
      },
      "execution_count": null,
      "outputs": []
    },
    {
      "cell_type": "code",
      "source": [
        "def calculate_loss_and_bpd(model, data_loader, img_size, bits, device, add_noise=False):\n",
        "    model.eval()\n",
        "    total_loss = 0.0\n",
        "    total_bpd = 0.0\n",
        "    iters = 0\n",
        "    bits_representation = 2 ** bits\n",
        "    with torch.no_grad():\n",
        "        for x, _ in data_loader:\n",
        "            x = x.to(device)\n",
        "            if add_noise:\n",
        "                x = (x * (bits_representation - 1)).long()\n",
        "                u = torch.rand_like(x.float())\n",
        "                x = x + u\n",
        "                x = x / bits_representation\n",
        "            x = x.flatten(start_dim=1)\n",
        "            log_px = model.log_prob(x) - np.log(bits_representation) * (img_size * img_size)\n",
        "            loss = -(log_px).mean()\n",
        "            bpd = -log_px.mean().cpu() / (np.log(2) * (img_size * img_size))\n",
        "            total_loss += loss.item()\n",
        "            total_bpd += bpd.item()\n",
        "            iters += 1\n",
        "\n",
        "    model.train()\n",
        "    avg_loss = total_loss / iters\n",
        "    avg_bpd = total_bpd / iters\n",
        "    return avg_loss, avg_bpd"
      ],
      "metadata": {
        "id": "8Ob2VrINbc7E"
      },
      "execution_count": null,
      "outputs": []
    },
    {
      "cell_type": "code",
      "source": [
        "def train_digit(\n",
        "    digit,\n",
        "    num_iters,\n",
        "    train_loader,\n",
        "    test_loader,\n",
        "    img_size,\n",
        "    bits,\n",
        "    num_transforms,\n",
        "    lr,\n",
        "    device,\n",
        "    plot_mnist=False,\n",
        "    eval_iter_freq=10,\n",
        "    checkpoint_root_dir='checkpoints'\n",
        "):\n",
        "    torch.autograd.set_detect_anomaly(True)\n",
        "    print('=' * 50)\n",
        "    print(f'Training a flow for digit:', digit)\n",
        "    flow = RealNVP(img_size * img_size, num_steps=num_transforms).to(device)\n",
        "    optim = torch.optim.AdamW(flow.parameters(), lr=lr)\n",
        "    flow.train()\n",
        "    bits_representation = 2 ** bits\n",
        "\n",
        "    for epoch in range(num_iters):\n",
        "        total_loss = 0.0\n",
        "        total_bpd = 0.0\n",
        "        iters = 0\n",
        "        for x, _ in train_loader:\n",
        "            x = x.to(device)\n",
        "            x = (x * (bits_representation - 1)).long()\n",
        "            u = torch.rand_like(x.float())\n",
        "            x = x + u\n",
        "            x = x / bits_representation\n",
        "            x = x.flatten(start_dim=1)\n",
        "\n",
        "            optim.zero_grad()\n",
        "            log_px = flow.log_prob(x) - np.log(bits_representation) * (img_size * img_size)\n",
        "            loss = -(log_px).mean()\n",
        "            loss.backward()\n",
        "            optim.step()\n",
        "\n",
        "            iters += 1\n",
        "            total_loss += loss.item()\n",
        "            bpd = -log_px.mean().cpu() / (np.log(2) * (img_size * img_size))\n",
        "            total_bpd += bpd.item()\n",
        "\n",
        "        avg_loss = total_loss / iters\n",
        "        avg_bpd = total_bpd / iters\n",
        "\n",
        "        if (epoch + 1) % eval_iter_freq == 0 or epoch == num_iters - 1:\n",
        "            avg_val_loss, avg_val_bpd = calculate_loss_and_bpd(flow, test_loader, img_size, bits, device)\n",
        "\n",
        "            if plot_mnist:\n",
        "                samples = flow.sample(4).detach().cpu()\n",
        "                samples = torch.unflatten(samples, dim=1, sizes=(img_size, img_size))\n",
        "                plot_mnist(samples, 2, 2)\n",
        "\n",
        "            flow.train()\n",
        "\n",
        "            print(\n",
        "                f\"Epoch {epoch + 1}/{num_iters} | \"\n",
        "                f\"Train Loss: {avg_loss:.4f} | Train BPD: {avg_bpd:.4f} | \"\n",
        "                f\"Val Loss: {avg_val_loss:.4f} | Val BPD: {avg_val_bpd:.4f}\"\n",
        "            )\n",
        "\n",
        "            checkpoint_path = os.path.join(checkpoint_root_dir, f\"flow_digit_{digit}_epoch_{epoch + 1}.pth\")\n",
        "            save_checkpoint(flow, optim, epoch + 1, checkpoint_path)\n",
        "\n",
        "    return flow"
      ],
      "metadata": {
        "id": "L006EY0abW3a"
      },
      "execution_count": null,
      "outputs": []
    },
    {
      "cell_type": "code",
      "source": [
        "from google.colab import drive\n",
        "drive.mount('/content/drive')"
      ],
      "metadata": {
        "colab": {
          "base_uri": "https://localhost:8080/"
        },
        "id": "7NJgZeQPbW8a",
        "outputId": "61c81d10-85bb-4de0-fbf9-e0d67902a1ec"
      },
      "execution_count": null,
      "outputs": [
        {
          "output_type": "stream",
          "name": "stdout",
          "text": [
            "Mounted at /content/drive\n"
          ]
        }
      ]
    },
    {
      "cell_type": "code",
      "source": [
        "flow = RealNVP(img_size * img_size, num_steps=num_transforms).to(device)\n",
        "epoch = 1"
      ],
      "metadata": {
        "id": "Qes5lv5MbXCa"
      },
      "execution_count": null,
      "outputs": []
    },
    {
      "cell_type": "code",
      "source": [
        "checkpoint_root_dir = 'drive/MyDrive/checkpoints'\n",
        "checkpoint_digit_dir = os.path.join(checkpoint_root_dir, f'flow_digit_{selected_number}')"
      ],
      "metadata": {
        "id": "zGKxFt3iceMl"
      },
      "execution_count": null,
      "outputs": []
    },
    {
      "cell_type": "code",
      "source": [
        "digit = 0\n",
        "model = train_digit(digit, 10, train_loader, test_loader, img_size, bits, num_transforms, lr, device, eval_iter_freq=2, checkpoint_root_dir=checkpoint_digit_dir)"
      ],
      "metadata": {
        "colab": {
          "base_uri": "https://localhost:8080/"
        },
        "id": "0GX01fujceVf",
        "outputId": "976fabbb-1e3c-487f-d3ed-27a738ec83f4"
      },
      "execution_count": null,
      "outputs": [
        {
          "output_type": "stream",
          "name": "stdout",
          "text": [
            "==================================================\n",
            "Training a flow for digit: 0\n",
            "Epoch 2/10 | Train Loss: 1240.4503 | Train BPD: 9.1306 | Val Loss: 1224.3519 | Val BPD: 9.0121\n",
            "Checkpoint saved at drive/MyDrive/checkpoints/flow_digit_0/flow_digit_0_epoch_2.pth\n",
            "Epoch 4/10 | Train Loss: 1160.5510 | Train BPD: 8.5425 | Val Loss: 1128.3835 | Val BPD: 8.3057\n",
            "Checkpoint saved at drive/MyDrive/checkpoints/flow_digit_0/flow_digit_0_epoch_4.pth\n",
            "Epoch 6/10 | Train Loss: 1044.8824 | Train BPD: 7.6911 | Val Loss: 1020.3250 | Val BPD: 7.5103\n",
            "Checkpoint saved at drive/MyDrive/checkpoints/flow_digit_0/flow_digit_0_epoch_6.pth\n",
            "Epoch 8/10 | Train Loss: 947.3954 | Train BPD: 6.9735 | Val Loss: 923.8145 | Val BPD: 6.7999\n",
            "Checkpoint saved at drive/MyDrive/checkpoints/flow_digit_0/flow_digit_0_epoch_8.pth\n",
            "Epoch 10/10 | Train Loss: 878.9191 | Train BPD: 6.4695 | Val Loss: 863.8861 | Val BPD: 6.3588\n",
            "Checkpoint saved at drive/MyDrive/checkpoints/flow_digit_0/flow_digit_0_epoch_10.pth\n"
          ]
        }
      ]
    },
    {
      "cell_type": "code",
      "source": [
        "def classify_digit(x, models):\n",
        "    x = x.to(device)\n",
        "    x = x.flatten(start_dim=1)\n",
        "    x = x * 255\n",
        "    x = x / (2 ** bits)\n",
        "\n",
        "    log_probs = []\n",
        "    for digit in range(2):\n",
        "        model = models[digit]\n",
        "        model.eval()\n",
        "        with torch.no_grad():\n",
        "            log_px = model.log_prob(x) - np.log((2 ** bits)) * (img_size * img_size)\n",
        "            log_prob = log_px.item()\n",
        "            log_probs.append((digit, log_prob))\n",
        "\n",
        "    predicted_digit = max(log_probs, key=lambda item: item[1])[0]\n",
        "    return predicted_digit"
      ],
      "metadata": {
        "id": "WPIn0ftWhDh9"
      },
      "execution_count": null,
      "outputs": []
    },
    {
      "cell_type": "code",
      "source": [
        "models = {}\n",
        "models[0] = model\n",
        "models[1] = RealNVP(img_size * img_size, num_steps=num_transforms).to(device)"
      ],
      "metadata": {
        "id": "LF_i8jGmhDml"
      },
      "execution_count": null,
      "outputs": []
    },
    {
      "cell_type": "code",
      "source": [
        "classify_digit()"
      ],
      "metadata": {
        "id": "JewF3kiohDn-"
      },
      "execution_count": null,
      "outputs": []
    },
    {
      "cell_type": "code",
      "source": [
        "flow = models[0]\n",
        "flow.eval()\n",
        "samples = flow.sample(10).detach().cpu()\n",
        "samples = torch.unflatten(samples, dim=1, sizes=(14, 14))\n",
        "plot_mnist(samples, 2, 5)"
      ],
      "metadata": {
        "colab": {
          "base_uri": "https://localhost:8080/",
          "height": 320
        },
        "id": "5bo_SI0VmJG3",
        "outputId": "e65a51bf-fcdc-47c6-a761-00dec5aa7834"
      },
      "execution_count": null,
      "outputs": [
        {
          "output_type": "display_data",
          "data": {
            "text/plain": [
              "<Figure size 750x400 with 10 Axes>"
            ],
            "image/png": "[encoded data removed]"
          },
          "metadata": {}
        }
      ]
    },
    {
      "cell_type": "code",
      "source": [
        "def get_accuracy(data_loader, models, device, bits, img_size):\n",
        "    total_samples = 0\n",
        "    top1_correct = 0\n",
        "    top3_correct = 0\n",
        "    top5_correct = 0\n",
        "    bits_representation = 2 ** bits\n",
        "\n",
        "    for x, y_true in data_loader:\n",
        "        x = x.to(device)\n",
        "        y_true = y_true.to(device)\n",
        "        batch_size = x.size(0)\n",
        "        x = x.flatten(start_dim=1)\n",
        "        x = x * (bits_representation - 1)\n",
        "        x = x / bits_representation\n",
        "\n",
        "        log_probs = []\n",
        "        for digit in range(10):\n",
        "            model = models[digit]\n",
        "            model.eval()\n",
        "            with torch.no_grad():\n",
        "                log_px = model.log_prob(x) - np.log(bits_representation) * (img_size * img_size)\n",
        "                log_probs.append(log_px.unsqueeze(1))\n",
        "\n",
        "        log_probs = torch.cat(log_probs, dim=1)\n",
        "        _, top_k_indices = torch.topk(log_probs, k=5, dim=1)\n",
        "\n",
        "        y_true = y_true.view(-1, 1)\n",
        "        correct_top1 = (top_k_indices[:, 0] == y_true.squeeze()).sum().item()\n",
        "        correct_top3 = (top_k_indices[:, :3] == y_true).any(dim=1).sum().item()\n",
        "        correct_top5 = (top_k_indices[:, :5] == y_true).any(dim=1).sum().item()\n",
        "\n",
        "        top1_correct += correct_top1\n",
        "        top3_correct += correct_top3\n",
        "        top5_correct += correct_top5\n",
        "        total_samples += batch_size\n",
        "\n",
        "    accuracy = {\n",
        "        'top1': top1_correct / total_samples,\n",
        "        'top3': top3_correct / total_samples,\n",
        "        'top5': top5_correct / total_samples\n",
        "    }\n",
        "\n",
        "    return accuracy"
      ],
      "metadata": {
        "id": "VidIlIGmmJLc"
      },
      "execution_count": null,
      "outputs": []
    },
    {
      "cell_type": "code",
      "source": [
        "models = {}\n",
        "for digit in range(10):\n",
        "    models[digit] = RealNVP(img_size * img_size, num_steps=num_transforms).to(device)"
      ],
      "metadata": {
        "id": "PX-BJdYfybCx"
      },
      "execution_count": null,
      "outputs": []
    },
    {
      "cell_type": "code",
      "source": [
        "accuracy = get_accuracy(test_loader, models, device, bits, img_size)\n",
        "print(f\"Top-1 Accuracy: {accuracy['top1']:.4f}\")\n",
        "print(f\"Top-3 Accuracy: {accuracy['top3']:.4f}\")\n",
        "print(f\"Top-5 Accuracy: {accuracy['top5']:.4f}\")"
      ],
      "metadata": {
        "colab": {
          "base_uri": "https://localhost:8080/"
        },
        "id": "dW0CQJCkybG2",
        "outputId": "5aa4c20d-f958-46c3-d85f-7a266fdd51c2"
      },
      "execution_count": null,
      "outputs": [
        {
          "output_type": "stream",
          "name": "stdout",
          "text": [
            "Top-1 Accuracy: 0.0000\n",
            "Top-3 Accuracy: 0.0000\n",
            "Top-5 Accuracy: 1.0000\n"
          ]
        }
      ]
    },
    {
      "cell_type": "markdown",
      "metadata": {
        "id": "VP_LQwbL-qY7"
      },
      "source": [
        "## Bonus zadatak\n",
        "\n",
        "Predložite implementaciju konvolucijskog normalizirajućeg toka."
      ]
    },
    {
      "cell_type": "code",
      "execution_count": null,
      "metadata": {
        "id": "-kbuDupRL5rA"
      },
      "outputs": [],
      "source": []
    }
  ],
  "metadata": {
    "colab": {
      "provenance": []
    },
    "kernelspec": {
      "display_name": "Python 3",
      "name": "python3"
    },
    "language_info": {
      "name": "python"
    }
  },
  "nbformat": 4,
  "nbformat_minor": 0
}